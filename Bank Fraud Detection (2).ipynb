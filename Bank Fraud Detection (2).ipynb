{
 "cells": [
  {
   "cell_type": "markdown",
   "id": "norman-trigger",
   "metadata": {},
   "source": [
    "# Bank Transaction Fraud Detection "
   ]
  },
  {
   "cell_type": "code",
   "execution_count": 1,
   "id": "parental-corps",
   "metadata": {},
   "outputs": [],
   "source": [
    "# Import library\n",
    "import pandas as pd\n",
    "import numpy as np\n",
    "import matplotlib.pyplot as plt\n",
    "import seaborn as sns"
   ]
  },
  {
   "cell_type": "code",
   "execution_count": 2,
   "id": "chemical-freeware",
   "metadata": {},
   "outputs": [],
   "source": [
    "# loading the data\n",
    "data=pd.read_csv(\"C:/Users/shwer/OneDrive/Desktop/New folder/data.csv\")"
   ]
  },
  {
   "cell_type": "code",
   "execution_count": 3,
   "id": "continued-seattle",
   "metadata": {},
   "outputs": [
    {
     "data": {
      "text/html": [
       "<div>\n",
       "<style scoped>\n",
       "    .dataframe tbody tr th:only-of-type {\n",
       "        vertical-align: middle;\n",
       "    }\n",
       "\n",
       "    .dataframe tbody tr th {\n",
       "        vertical-align: top;\n",
       "    }\n",
       "\n",
       "    .dataframe thead th {\n",
       "        text-align: right;\n",
       "    }\n",
       "</style>\n",
       "<table border=\"1\" class=\"dataframe\">\n",
       "  <thead>\n",
       "    <tr style=\"text-align: right;\">\n",
       "      <th></th>\n",
       "      <th>step</th>\n",
       "      <th>type</th>\n",
       "      <th>amount</th>\n",
       "      <th>nameOrig</th>\n",
       "      <th>oldbalanceOrg</th>\n",
       "      <th>newbalanceOrig</th>\n",
       "      <th>nameDest</th>\n",
       "      <th>oldbalanceDest</th>\n",
       "      <th>newbalanceDest</th>\n",
       "      <th>isFraud</th>\n",
       "      <th>isFlaggedFraud</th>\n",
       "    </tr>\n",
       "  </thead>\n",
       "  <tbody>\n",
       "    <tr>\n",
       "      <th>0</th>\n",
       "      <td>1</td>\n",
       "      <td>PAYMENT</td>\n",
       "      <td>9839.64</td>\n",
       "      <td>C1231006815</td>\n",
       "      <td>170136.0</td>\n",
       "      <td>160296.36</td>\n",
       "      <td>M1979787155</td>\n",
       "      <td>0.0</td>\n",
       "      <td>0.0</td>\n",
       "      <td>0</td>\n",
       "      <td>0</td>\n",
       "    </tr>\n",
       "    <tr>\n",
       "      <th>1</th>\n",
       "      <td>1</td>\n",
       "      <td>PAYMENT</td>\n",
       "      <td>1864.28</td>\n",
       "      <td>C1666544295</td>\n",
       "      <td>21249.0</td>\n",
       "      <td>19384.72</td>\n",
       "      <td>M2044282225</td>\n",
       "      <td>0.0</td>\n",
       "      <td>0.0</td>\n",
       "      <td>0</td>\n",
       "      <td>0</td>\n",
       "    </tr>\n",
       "    <tr>\n",
       "      <th>2</th>\n",
       "      <td>1</td>\n",
       "      <td>TRANSFER</td>\n",
       "      <td>181.00</td>\n",
       "      <td>C1305486145</td>\n",
       "      <td>181.0</td>\n",
       "      <td>0.00</td>\n",
       "      <td>C553264065</td>\n",
       "      <td>0.0</td>\n",
       "      <td>0.0</td>\n",
       "      <td>1</td>\n",
       "      <td>0</td>\n",
       "    </tr>\n",
       "    <tr>\n",
       "      <th>3</th>\n",
       "      <td>1</td>\n",
       "      <td>CASH_OUT</td>\n",
       "      <td>181.00</td>\n",
       "      <td>C840083671</td>\n",
       "      <td>181.0</td>\n",
       "      <td>0.00</td>\n",
       "      <td>C38997010</td>\n",
       "      <td>21182.0</td>\n",
       "      <td>0.0</td>\n",
       "      <td>1</td>\n",
       "      <td>0</td>\n",
       "    </tr>\n",
       "    <tr>\n",
       "      <th>4</th>\n",
       "      <td>1</td>\n",
       "      <td>PAYMENT</td>\n",
       "      <td>11668.14</td>\n",
       "      <td>C2048537720</td>\n",
       "      <td>41554.0</td>\n",
       "      <td>29885.86</td>\n",
       "      <td>M1230701703</td>\n",
       "      <td>0.0</td>\n",
       "      <td>0.0</td>\n",
       "      <td>0</td>\n",
       "      <td>0</td>\n",
       "    </tr>\n",
       "  </tbody>\n",
       "</table>\n",
       "</div>"
      ],
      "text/plain": [
       "   step      type    amount     nameOrig  oldbalanceOrg  newbalanceOrig  \\\n",
       "0     1   PAYMENT   9839.64  C1231006815       170136.0       160296.36   \n",
       "1     1   PAYMENT   1864.28  C1666544295        21249.0        19384.72   \n",
       "2     1  TRANSFER    181.00  C1305486145          181.0            0.00   \n",
       "3     1  CASH_OUT    181.00   C840083671          181.0            0.00   \n",
       "4     1   PAYMENT  11668.14  C2048537720        41554.0        29885.86   \n",
       "\n",
       "      nameDest  oldbalanceDest  newbalanceDest  isFraud  isFlaggedFraud  \n",
       "0  M1979787155             0.0             0.0        0               0  \n",
       "1  M2044282225             0.0             0.0        0               0  \n",
       "2   C553264065             0.0             0.0        1               0  \n",
       "3    C38997010         21182.0             0.0        1               0  \n",
       "4  M1230701703             0.0             0.0        0               0  "
      ]
     },
     "execution_count": 3,
     "metadata": {},
     "output_type": "execute_result"
    }
   ],
   "source": [
    "data.head()"
   ]
  },
  {
   "cell_type": "code",
   "execution_count": 4,
   "id": "fitted-heater",
   "metadata": {},
   "outputs": [
    {
     "data": {
      "text/plain": [
       "(6362620, 11)"
      ]
     },
     "execution_count": 4,
     "metadata": {},
     "output_type": "execute_result"
    }
   ],
   "source": [
    "data.shape"
   ]
  },
  {
   "cell_type": "markdown",
   "id": "incomplete-trinity",
   "metadata": {},
   "source": [
    "# Observations:\n",
    "<b> Dataset has total 6.3 M records with 11 columns(features) </b>"
   ]
  },
  {
   "cell_type": "code",
   "execution_count": 5,
   "id": "appropriate-heater",
   "metadata": {},
   "outputs": [
    {
     "data": {
      "text/plain": [
       "step              0\n",
       "type              0\n",
       "amount            0\n",
       "nameOrig          0\n",
       "oldbalanceOrg     0\n",
       "newbalanceOrig    0\n",
       "nameDest          0\n",
       "oldbalanceDest    0\n",
       "newbalanceDest    0\n",
       "isFraud           0\n",
       "isFlaggedFraud    0\n",
       "dtype: int64"
      ]
     },
     "execution_count": 5,
     "metadata": {},
     "output_type": "execute_result"
    }
   ],
   "source": [
    "data.isnull().sum()"
   ]
  },
  {
   "cell_type": "markdown",
   "id": "primary-candidate",
   "metadata": {},
   "source": [
    "# Observations:\n",
    "<b> Dataset is cleaned no missing values </b>"
   ]
  },
  {
   "cell_type": "code",
   "execution_count": 6,
   "id": "prescribed-devon",
   "metadata": {},
   "outputs": [],
   "source": [
    "# Getting Counts of Type of Transaction with Fraud =0 and Fraud=1\n",
    "data['Counts'] = data.groupby(['type','isFraud'])['type'].transform('count')"
   ]
  },
  {
   "cell_type": "code",
   "execution_count": 7,
   "id": "hollow-width",
   "metadata": {},
   "outputs": [],
   "source": [
    "# Getting Counts of Type of Transaction\n",
    "data['Counts_Overall_type'] = data.groupby(['type'])['type'].transform('count')"
   ]
  },
  {
   "cell_type": "code",
   "execution_count": 8,
   "id": "moral-mouth",
   "metadata": {},
   "outputs": [
    {
     "data": {
      "text/html": [
       "<div>\n",
       "<style scoped>\n",
       "    .dataframe tbody tr th:only-of-type {\n",
       "        vertical-align: middle;\n",
       "    }\n",
       "\n",
       "    .dataframe tbody tr th {\n",
       "        vertical-align: top;\n",
       "    }\n",
       "\n",
       "    .dataframe thead th {\n",
       "        text-align: right;\n",
       "    }\n",
       "</style>\n",
       "<table border=\"1\" class=\"dataframe\">\n",
       "  <thead>\n",
       "    <tr style=\"text-align: right;\">\n",
       "      <th></th>\n",
       "      <th>step</th>\n",
       "      <th>type</th>\n",
       "      <th>amount</th>\n",
       "      <th>nameOrig</th>\n",
       "      <th>oldbalanceOrg</th>\n",
       "      <th>newbalanceOrig</th>\n",
       "      <th>nameDest</th>\n",
       "      <th>oldbalanceDest</th>\n",
       "      <th>newbalanceDest</th>\n",
       "      <th>isFraud</th>\n",
       "      <th>isFlaggedFraud</th>\n",
       "      <th>Counts</th>\n",
       "      <th>Counts_Overall_type</th>\n",
       "    </tr>\n",
       "  </thead>\n",
       "  <tbody>\n",
       "    <tr>\n",
       "      <th>0</th>\n",
       "      <td>1</td>\n",
       "      <td>PAYMENT</td>\n",
       "      <td>9839.64</td>\n",
       "      <td>C1231006815</td>\n",
       "      <td>170136.0</td>\n",
       "      <td>160296.36</td>\n",
       "      <td>M1979787155</td>\n",
       "      <td>0.0</td>\n",
       "      <td>0.0</td>\n",
       "      <td>0</td>\n",
       "      <td>0</td>\n",
       "      <td>2151495</td>\n",
       "      <td>2151495</td>\n",
       "    </tr>\n",
       "    <tr>\n",
       "      <th>1</th>\n",
       "      <td>1</td>\n",
       "      <td>PAYMENT</td>\n",
       "      <td>1864.28</td>\n",
       "      <td>C1666544295</td>\n",
       "      <td>21249.0</td>\n",
       "      <td>19384.72</td>\n",
       "      <td>M2044282225</td>\n",
       "      <td>0.0</td>\n",
       "      <td>0.0</td>\n",
       "      <td>0</td>\n",
       "      <td>0</td>\n",
       "      <td>2151495</td>\n",
       "      <td>2151495</td>\n",
       "    </tr>\n",
       "    <tr>\n",
       "      <th>2</th>\n",
       "      <td>1</td>\n",
       "      <td>TRANSFER</td>\n",
       "      <td>181.00</td>\n",
       "      <td>C1305486145</td>\n",
       "      <td>181.0</td>\n",
       "      <td>0.00</td>\n",
       "      <td>C553264065</td>\n",
       "      <td>0.0</td>\n",
       "      <td>0.0</td>\n",
       "      <td>1</td>\n",
       "      <td>0</td>\n",
       "      <td>4097</td>\n",
       "      <td>532909</td>\n",
       "    </tr>\n",
       "    <tr>\n",
       "      <th>3</th>\n",
       "      <td>1</td>\n",
       "      <td>CASH_OUT</td>\n",
       "      <td>181.00</td>\n",
       "      <td>C840083671</td>\n",
       "      <td>181.0</td>\n",
       "      <td>0.00</td>\n",
       "      <td>C38997010</td>\n",
       "      <td>21182.0</td>\n",
       "      <td>0.0</td>\n",
       "      <td>1</td>\n",
       "      <td>0</td>\n",
       "      <td>4116</td>\n",
       "      <td>2237500</td>\n",
       "    </tr>\n",
       "    <tr>\n",
       "      <th>4</th>\n",
       "      <td>1</td>\n",
       "      <td>PAYMENT</td>\n",
       "      <td>11668.14</td>\n",
       "      <td>C2048537720</td>\n",
       "      <td>41554.0</td>\n",
       "      <td>29885.86</td>\n",
       "      <td>M1230701703</td>\n",
       "      <td>0.0</td>\n",
       "      <td>0.0</td>\n",
       "      <td>0</td>\n",
       "      <td>0</td>\n",
       "      <td>2151495</td>\n",
       "      <td>2151495</td>\n",
       "    </tr>\n",
       "  </tbody>\n",
       "</table>\n",
       "</div>"
      ],
      "text/plain": [
       "   step      type    amount     nameOrig  oldbalanceOrg  newbalanceOrig  \\\n",
       "0     1   PAYMENT   9839.64  C1231006815       170136.0       160296.36   \n",
       "1     1   PAYMENT   1864.28  C1666544295        21249.0        19384.72   \n",
       "2     1  TRANSFER    181.00  C1305486145          181.0            0.00   \n",
       "3     1  CASH_OUT    181.00   C840083671          181.0            0.00   \n",
       "4     1   PAYMENT  11668.14  C2048537720        41554.0        29885.86   \n",
       "\n",
       "      nameDest  oldbalanceDest  newbalanceDest  isFraud  isFlaggedFraud  \\\n",
       "0  M1979787155             0.0             0.0        0               0   \n",
       "1  M2044282225             0.0             0.0        0               0   \n",
       "2   C553264065             0.0             0.0        1               0   \n",
       "3    C38997010         21182.0             0.0        1               0   \n",
       "4  M1230701703             0.0             0.0        0               0   \n",
       "\n",
       "    Counts  Counts_Overall_type  \n",
       "0  2151495              2151495  \n",
       "1  2151495              2151495  \n",
       "2     4097               532909  \n",
       "3     4116              2237500  \n",
       "4  2151495              2151495  "
      ]
     },
     "execution_count": 8,
     "metadata": {},
     "output_type": "execute_result"
    }
   ],
   "source": [
    "data.head()"
   ]
  },
  {
   "cell_type": "markdown",
   "id": "instructional-mediterranean",
   "metadata": {},
   "source": [
    "# Visualizing different type of transaction made by user and count of it"
   ]
  },
  {
   "cell_type": "code",
   "execution_count": 9,
   "id": "appreciated-folks",
   "metadata": {},
   "outputs": [
    {
     "data": {
      "text/plain": [
       "CASH_OUT    2237500\n",
       "PAYMENT     2151495\n",
       "CASH_IN     1399284\n",
       "TRANSFER     532909\n",
       "DEBIT         41432\n",
       "Name: type, dtype: int64"
      ]
     },
     "execution_count": 9,
     "metadata": {},
     "output_type": "execute_result"
    }
   ],
   "source": [
    "data['type'].value_counts()"
   ]
  },
  {
   "cell_type": "markdown",
   "id": "binary-trinity",
   "metadata": {},
   "source": [
    "# Observations: \n",
    "<b><br>Cash Out is the most popular transaction type made by user i.e. 2237500 </b></br>\n",
    "<b><br> Debit is the least transaction type made by user i.e. 41432 </b></br>"
   ]
  },
  {
   "cell_type": "markdown",
   "id": "initial-surgery",
   "metadata": {},
   "source": [
    "# Understanding fraud and non fraud tarnsactions made"
   ]
  },
  {
   "cell_type": "code",
   "execution_count": 10,
   "id": "psychological-retro",
   "metadata": {},
   "outputs": [
    {
     "data": {
      "text/plain": [
       "Text(0.5, 1.0, 'Fraud Transaction Counts VS Valid Transactions Count')"
      ]
     },
     "execution_count": 10,
     "metadata": {},
     "output_type": "execute_result"
    },
    {
     "data": {
      "image/png": "[encoded data removed]",
      "text/plain": [
       "<Figure size 576x504 with 1 Axes>"
      ]
     },
     "metadata": {
      "needs_background": "light"
     },
     "output_type": "display_data"
    }
   ],
   "source": [
    "fig_dims = (8, 7)\n",
    "fig, ax = plt.subplots(figsize=fig_dims)\n",
    "ax = sns.countplot(x=\"isFraud\", data=data,hue=\"isFraud\",ax=ax)\n",
    "plt.xlabel(\"Transactions valid or Not\")\n",
    "plt.ylabel(\"Count\")\n",
    "plt.title(\"Fraud Transaction Counts VS Valid Transactions Count\")"
   ]
  },
  {
   "cell_type": "code",
   "execution_count": 11,
   "id": "electoral-celtic",
   "metadata": {},
   "outputs": [
    {
     "data": {
      "text/plain": [
       "0    6354407\n",
       "1       8213\n",
       "Name: isFraud, dtype: int64"
      ]
     },
     "execution_count": 11,
     "metadata": {},
     "output_type": "execute_result"
    }
   ],
   "source": [
    "data['isFraud'].value_counts()"
   ]
  },
  {
   "cell_type": "markdown",
   "id": "breeding-control",
   "metadata": {},
   "source": [
    "# Observations\n",
    "<br><b> Valid Transaction are much more than invalid transactions. 8213 transactions are invalid and 6.3 M transactions are valid</b></br>"
   ]
  },
  {
   "cell_type": "code",
   "execution_count": 12,
   "id": "mathematical-metadata",
   "metadata": {},
   "outputs": [
    {
     "data": {
      "text/plain": [
       "0    8213\n",
       "1    8213\n",
       "Name: isFraud, dtype: int64"
      ]
     },
     "execution_count": 12,
     "metadata": {},
     "output_type": "execute_result"
    }
   ],
   "source": [
    "# Downsampling\n",
    "# As every target category has different sets of records performing downsampling\n",
    "label=data['isFraud']\n",
    "\n",
    "g = data.groupby(label, group_keys=False)\n",
    "data = pd.DataFrame(g.apply(lambda x: \n",
    "x.sample(g.size().min()).\n",
    "reset_index(drop=True)))\n",
    "data['isFraud'].value_counts()"
   ]
  },
  {
   "cell_type": "code",
   "execution_count": 13,
   "id": "amazing-listening",
   "metadata": {},
   "outputs": [
    {
     "data": {
      "text/plain": [
       "CASH_OUT    7017\n",
       "TRANSFER    4784\n",
       "PAYMENT     2768\n",
       "CASH_IN     1800\n",
       "DEBIT         57\n",
       "Name: type, dtype: int64"
      ]
     },
     "execution_count": 13,
     "metadata": {},
     "output_type": "execute_result"
    }
   ],
   "source": [
    "data['type'].value_counts()"
   ]
  },
  {
   "cell_type": "code",
   "execution_count": 14,
   "id": "motivated-chester",
   "metadata": {},
   "outputs": [
    {
     "data": {
      "image/png": "[encoded data removed]",
      "text/plain": [
       "<Figure size 432x288 with 1 Axes>"
      ]
     },
     "metadata": {
      "needs_background": "light"
     },
     "output_type": "display_data"
    }
   ],
   "source": [
    "transaction_types = [types for types, df in data.groupby(['type'])]\n",
    "\n",
    "plt.bar(transaction_types,data.groupby(['type']).sum()['amount'])\n",
    "plt.ylabel('Total Amount')\n",
    "plt.xlabel('Transaction types')\n",
    "plt.xticks(transaction_types, rotation='vertical', size=8)\n",
    "plt.title(\"Total Amount made in every transaction type\")\n",
    "plt.show()"
   ]
  },
  {
   "cell_type": "code",
   "execution_count": 15,
   "id": "likely-pickup",
   "metadata": {},
   "outputs": [
    {
     "data": {
      "text/plain": [
       "type\n",
       "CASH_IN     2.995456e+08\n",
       "CASH_OUT    6.494948e+09\n",
       "DEBIT       2.545149e+05\n",
       "PAYMENT     3.539101e+07\n",
       "TRANSFER    6.728376e+09\n",
       "Name: amount, dtype: float64"
      ]
     },
     "execution_count": 15,
     "metadata": {},
     "output_type": "execute_result"
    }
   ],
   "source": [
    "data.groupby(['type']).sum()['amount']"
   ]
  },
  {
   "cell_type": "markdown",
   "id": "abstract-rescue",
   "metadata": {},
   "source": [
    "# Observations:\n",
    "<b><br> Amount of Transaction made by Transfer is the largest  even though it had very few Transfer Transactions made </br></b>\n",
    "<b><br> While Payment transaction count was high but Amount of transaction made by Payment is less than rest type of transactions </br></b>\n"
   ]
  },
  {
   "cell_type": "code",
   "execution_count": 16,
   "id": "educational-parliament",
   "metadata": {},
   "outputs": [
    {
     "name": "stdout",
     "output_type": "stream",
     "text": [
      "8213\n",
      "8213\n"
     ]
    },
    {
     "data": {
      "text/plain": [
       "16"
      ]
     },
     "execution_count": 16,
     "metadata": {},
     "output_type": "execute_result"
    }
   ],
   "source": [
    "# Checking Illegal Attempt of Transfer (Amount >200)\n",
    "print((data[\"isFraud\"] == 1).sum())\n",
    "print((data[\"isFraud\"] == 0).sum())\n",
    "(data[\"isFlaggedFraud\"] == 1).sum()"
   ]
  },
  {
   "cell_type": "markdown",
   "id": "loose-cedar",
   "metadata": {},
   "source": [
    "# Observations:\n",
    "<br><b> Out of 8213 Fraud Transactions only 16 of them are considered Flagged Fraud because transactions which are greater thean >200 is flagged Fraud</br></b>\n",
    "<br><b> Flagged Fraud are not even 1% of Total Fraud Transactions made</br></b>"
   ]
  },
  {
   "cell_type": "markdown",
   "id": "passive-victor",
   "metadata": {},
   "source": [
    "# Visualizing different types of Transactions with their count of Frauds transactions"
   ]
  },
  {
   "cell_type": "code",
   "execution_count": 17,
   "id": "choice-bullet",
   "metadata": {},
   "outputs": [
    {
     "data": {
      "text/plain": [
       "<AxesSubplot:xlabel='type', ylabel='count'>"
      ]
     },
     "execution_count": 17,
     "metadata": {},
     "output_type": "execute_result"
    },
    {
     "data": {
      "image/png": "[encoded data removed]",
      "text/plain": [
       "<Figure size 432x288 with 1 Axes>"
      ]
     },
     "metadata": {
      "needs_background": "light"
     },
     "output_type": "display_data"
    }
   ],
   "source": [
    "data1=data[data[\"isFraud\"]==1]\n",
    "sns.countplot(x='type',hue='isFraud',data=data1)"
   ]
  },
  {
   "cell_type": "code",
   "execution_count": 18,
   "id": "federal-tracker",
   "metadata": {},
   "outputs": [
    {
     "data": {
      "text/plain": [
       "type\n",
       "CASH_OUT    4116\n",
       "TRANSFER    4097\n",
       "Name: isFraud, dtype: int64"
      ]
     },
     "execution_count": 18,
     "metadata": {},
     "output_type": "execute_result"
    }
   ],
   "source": [
    "data1.groupby(['type']).sum()['isFraud']"
   ]
  },
  {
   "cell_type": "markdown",
   "id": "answering-lunch",
   "metadata": {},
   "source": [
    "# Observations:\n",
    "<br><b> Of all the different types of transactions made CashOut and Transfer has only Fraud Cases i.e. CashIn, Debit and Payment has no Fraud cases </b></br>"
   ]
  },
  {
   "cell_type": "code",
   "execution_count": 19,
   "id": "sonic-reality",
   "metadata": {},
   "outputs": [],
   "source": [
    "data['Percentage']=(data['Counts']/data['Counts_Overall_type'])*100"
   ]
  },
  {
   "cell_type": "code",
   "execution_count": 20,
   "id": "latest-projection",
   "metadata": {},
   "outputs": [],
   "source": [
    "data3=data[['type','isFraud','Percentage']]"
   ]
  },
  {
   "cell_type": "code",
   "execution_count": 21,
   "id": "executive-tuner",
   "metadata": {},
   "outputs": [
    {
     "data": {
      "text/plain": [
       "<AxesSubplot:xlabel='type', ylabel='Percentage'>"
      ]
     },
     "execution_count": 21,
     "metadata": {},
     "output_type": "execute_result"
    },
    {
     "data": {
      "image/png": "[encoded data removed]",
      "text/plain": [
       "<Figure size 432x288 with 1 Axes>"
      ]
     },
     "metadata": {
      "needs_background": "light"
     },
     "output_type": "display_data"
    }
   ],
   "source": [
    "sns.barplot(x='type',y='Percentage',hue='isFraud',data=data3)"
   ]
  },
  {
   "cell_type": "code",
   "execution_count": 22,
   "id": "substantial-ready",
   "metadata": {},
   "outputs": [
    {
     "data": {
      "text/plain": [
       "type      isFraud  Percentage\n",
       "CASH_OUT  1        0.183955      4116\n",
       "TRANSFER  1        0.768799      4097\n",
       "CASH_OUT  0        99.816045     2901\n",
       "PAYMENT   0        100.000000    2768\n",
       "CASH_IN   0        100.000000    1800\n",
       "TRANSFER  0        99.231201      687\n",
       "DEBIT     0        100.000000      57\n",
       "dtype: int64"
      ]
     },
     "execution_count": 22,
     "metadata": {},
     "output_type": "execute_result"
    }
   ],
   "source": [
    "data3.value_counts()"
   ]
  },
  {
   "cell_type": "markdown",
   "id": "polyphonic-english",
   "metadata": {},
   "source": [
    "# Observations: \n",
    "<b><br> Fraud cases are very minimal around 0.76 % for Transfer and 0.18 % for Cash_Out </br></b>"
   ]
  },
  {
   "cell_type": "code",
   "execution_count": 23,
   "id": "spoken-observer",
   "metadata": {},
   "outputs": [],
   "source": [
    "# Extracting hour of day from Step Column\n",
    "data['transactionHour'] = data['step'] % 24"
   ]
  },
  {
   "cell_type": "code",
   "execution_count": 24,
   "id": "choice-consideration",
   "metadata": {},
   "outputs": [
    {
     "data": {
      "text/html": [
       "<div>\n",
       "<style scoped>\n",
       "    .dataframe tbody tr th:only-of-type {\n",
       "        vertical-align: middle;\n",
       "    }\n",
       "\n",
       "    .dataframe tbody tr th {\n",
       "        vertical-align: top;\n",
       "    }\n",
       "\n",
       "    .dataframe thead th {\n",
       "        text-align: right;\n",
       "    }\n",
       "</style>\n",
       "<table border=\"1\" class=\"dataframe\">\n",
       "  <thead>\n",
       "    <tr style=\"text-align: right;\">\n",
       "      <th></th>\n",
       "      <th>step</th>\n",
       "      <th>type</th>\n",
       "      <th>amount</th>\n",
       "      <th>nameOrig</th>\n",
       "      <th>oldbalanceOrg</th>\n",
       "      <th>newbalanceOrig</th>\n",
       "      <th>nameDest</th>\n",
       "      <th>oldbalanceDest</th>\n",
       "      <th>newbalanceDest</th>\n",
       "      <th>isFraud</th>\n",
       "      <th>isFlaggedFraud</th>\n",
       "      <th>Counts</th>\n",
       "      <th>Counts_Overall_type</th>\n",
       "      <th>Percentage</th>\n",
       "      <th>transactionHour</th>\n",
       "    </tr>\n",
       "  </thead>\n",
       "  <tbody>\n",
       "    <tr>\n",
       "      <th>0</th>\n",
       "      <td>398</td>\n",
       "      <td>CASH_IN</td>\n",
       "      <td>172790.03</td>\n",
       "      <td>C537966719</td>\n",
       "      <td>2536449.75</td>\n",
       "      <td>2709239.78</td>\n",
       "      <td>C155082523</td>\n",
       "      <td>354195.74</td>\n",
       "      <td>181405.71</td>\n",
       "      <td>0</td>\n",
       "      <td>0</td>\n",
       "      <td>1399284</td>\n",
       "      <td>1399284</td>\n",
       "      <td>100.0</td>\n",
       "      <td>14</td>\n",
       "    </tr>\n",
       "  </tbody>\n",
       "</table>\n",
       "</div>"
      ],
      "text/plain": [
       "   step     type     amount    nameOrig  oldbalanceOrg  newbalanceOrig  \\\n",
       "0   398  CASH_IN  172790.03  C537966719     2536449.75      2709239.78   \n",
       "\n",
       "     nameDest  oldbalanceDest  newbalanceDest  isFraud  isFlaggedFraud  \\\n",
       "0  C155082523       354195.74       181405.71        0               0   \n",
       "\n",
       "    Counts  Counts_Overall_type  Percentage  transactionHour  \n",
       "0  1399284              1399284       100.0               14  "
      ]
     },
     "execution_count": 24,
     "metadata": {},
     "output_type": "execute_result"
    }
   ],
   "source": [
    "data.head(1)"
   ]
  },
  {
   "cell_type": "code",
   "execution_count": 25,
   "id": "comparative-municipality",
   "metadata": {},
   "outputs": [
    {
     "data": {
      "image/png": "[encoded data removed]",
      "text/plain": [
       "<Figure size 1296x432 with 1 Axes>"
      ]
     },
     "metadata": {
      "needs_background": "light"
     },
     "output_type": "display_data"
    }
   ],
   "source": [
    "# reference: https://stackoverflow.com/questions/49059956/pandas-plot-value-counts-barplot-in-descending-manner\n",
    "plt.figure(figsize=(18,6))\n",
    "ax = (data['transactionHour'].value_counts(sort=False, normalize=True) * 100).round(2).plot(kind='bar')\n",
    "for i in ax.patches:\n",
    "    # get_x pulls left or right; get_height pushes up or down\n",
    "    ax.text(i.get_x(), i.get_height(), str(round(i.get_height(), 2)) + \"%\", fontsize=12, color='black')\n",
    "plt.xlabel('Transaction hour', fontsize=10,fontweight='bold')\n",
    "plt.xticks(fontsize=10,fontweight='bold')\n",
    "plt.ylabel('% of observations', fontsize=10,fontweight='bold')\n",
    "plt.yticks(fontsize=10,fontweight='bold')\n",
    "plt.title('No. of observations at each hour', fontsize=20)\n",
    "plt.show()"
   ]
  },
  {
   "cell_type": "markdown",
   "id": "burning-width",
   "metadata": {},
   "source": [
    "# Observations: \n",
    "<b><br> Most of transactions occur between 9 am - 8 pm </br></b>"
   ]
  },
  {
   "cell_type": "code",
   "execution_count": 26,
   "id": "close-claim",
   "metadata": {},
   "outputs": [
    {
     "data": {
      "text/html": [
       "<div>\n",
       "<style scoped>\n",
       "    .dataframe tbody tr th:only-of-type {\n",
       "        vertical-align: middle;\n",
       "    }\n",
       "\n",
       "    .dataframe tbody tr th {\n",
       "        vertical-align: top;\n",
       "    }\n",
       "\n",
       "    .dataframe thead th {\n",
       "        text-align: right;\n",
       "    }\n",
       "</style>\n",
       "<table border=\"1\" class=\"dataframe\">\n",
       "  <thead>\n",
       "    <tr style=\"text-align: right;\">\n",
       "      <th></th>\n",
       "      <th>step</th>\n",
       "      <th>type</th>\n",
       "      <th>amount</th>\n",
       "      <th>nameOrig</th>\n",
       "      <th>oldbalanceOrg</th>\n",
       "      <th>newbalanceOrig</th>\n",
       "      <th>nameDest</th>\n",
       "      <th>oldbalanceDest</th>\n",
       "      <th>newbalanceDest</th>\n",
       "      <th>isFraud</th>\n",
       "      <th>isFlaggedFraud</th>\n",
       "      <th>Counts</th>\n",
       "      <th>Counts_Overall_type</th>\n",
       "      <th>Percentage</th>\n",
       "      <th>transactionHour</th>\n",
       "    </tr>\n",
       "  </thead>\n",
       "  <tbody>\n",
       "    <tr>\n",
       "      <th>0</th>\n",
       "      <td>398</td>\n",
       "      <td>CASH_IN</td>\n",
       "      <td>172790.03</td>\n",
       "      <td>C537966719</td>\n",
       "      <td>2536449.75</td>\n",
       "      <td>2709239.78</td>\n",
       "      <td>C155082523</td>\n",
       "      <td>354195.74</td>\n",
       "      <td>181405.71</td>\n",
       "      <td>0</td>\n",
       "      <td>0</td>\n",
       "      <td>1399284</td>\n",
       "      <td>1399284</td>\n",
       "      <td>100.0</td>\n",
       "      <td>14</td>\n",
       "    </tr>\n",
       "  </tbody>\n",
       "</table>\n",
       "</div>"
      ],
      "text/plain": [
       "   step     type     amount    nameOrig  oldbalanceOrg  newbalanceOrig  \\\n",
       "0   398  CASH_IN  172790.03  C537966719     2536449.75      2709239.78   \n",
       "\n",
       "     nameDest  oldbalanceDest  newbalanceDest  isFraud  isFlaggedFraud  \\\n",
       "0  C155082523       354195.74       181405.71        0               0   \n",
       "\n",
       "    Counts  Counts_Overall_type  Percentage  transactionHour  \n",
       "0  1399284              1399284       100.0               14  "
      ]
     },
     "execution_count": 26,
     "metadata": {},
     "output_type": "execute_result"
    }
   ],
   "source": [
    "data.head(1)"
   ]
  },
  {
   "cell_type": "code",
   "execution_count": 27,
   "id": "extra-weather",
   "metadata": {},
   "outputs": [],
   "source": [
    "# For Outgoing transactions \n",
    "# Error=(Amount-OldBalance)+NewBalance should be 0 "
   ]
  },
  {
   "cell_type": "code",
   "execution_count": 28,
   "id": "vocational-auditor",
   "metadata": {},
   "outputs": [],
   "source": [
    "data['errorBalanceOriginal'] = data['amount'] - data['oldbalanceOrg']+ data['newbalanceOrig'] "
   ]
  },
  {
   "cell_type": "code",
   "execution_count": 29,
   "id": "banner-central",
   "metadata": {},
   "outputs": [
    {
     "data": {
      "text/html": [
       "<div>\n",
       "<style scoped>\n",
       "    .dataframe tbody tr th:only-of-type {\n",
       "        vertical-align: middle;\n",
       "    }\n",
       "\n",
       "    .dataframe tbody tr th {\n",
       "        vertical-align: top;\n",
       "    }\n",
       "\n",
       "    .dataframe thead th {\n",
       "        text-align: right;\n",
       "    }\n",
       "</style>\n",
       "<table border=\"1\" class=\"dataframe\">\n",
       "  <thead>\n",
       "    <tr style=\"text-align: right;\">\n",
       "      <th></th>\n",
       "      <th>step</th>\n",
       "      <th>type</th>\n",
       "      <th>amount</th>\n",
       "      <th>nameOrig</th>\n",
       "      <th>oldbalanceOrg</th>\n",
       "      <th>newbalanceOrig</th>\n",
       "      <th>nameDest</th>\n",
       "      <th>oldbalanceDest</th>\n",
       "      <th>newbalanceDest</th>\n",
       "      <th>isFraud</th>\n",
       "      <th>isFlaggedFraud</th>\n",
       "      <th>Counts</th>\n",
       "      <th>Counts_Overall_type</th>\n",
       "      <th>Percentage</th>\n",
       "      <th>transactionHour</th>\n",
       "      <th>errorBalanceOriginal</th>\n",
       "    </tr>\n",
       "  </thead>\n",
       "  <tbody>\n",
       "    <tr>\n",
       "      <th>5</th>\n",
       "      <td>354</td>\n",
       "      <td>PAYMENT</td>\n",
       "      <td>19207.56</td>\n",
       "      <td>C869140324</td>\n",
       "      <td>48908.00</td>\n",
       "      <td>29700.44</td>\n",
       "      <td>M22240572</td>\n",
       "      <td>0.00</td>\n",
       "      <td>0.00</td>\n",
       "      <td>0</td>\n",
       "      <td>0</td>\n",
       "      <td>2151495</td>\n",
       "      <td>2151495</td>\n",
       "      <td>100.000000</td>\n",
       "      <td>18</td>\n",
       "      <td>0.0</td>\n",
       "    </tr>\n",
       "    <tr>\n",
       "      <th>11</th>\n",
       "      <td>352</td>\n",
       "      <td>CASH_OUT</td>\n",
       "      <td>174874.39</td>\n",
       "      <td>C1567968097</td>\n",
       "      <td>555183.12</td>\n",
       "      <td>380308.73</td>\n",
       "      <td>C2131416920</td>\n",
       "      <td>1338371.38</td>\n",
       "      <td>1513245.77</td>\n",
       "      <td>0</td>\n",
       "      <td>0</td>\n",
       "      <td>2233384</td>\n",
       "      <td>2237500</td>\n",
       "      <td>99.816045</td>\n",
       "      <td>16</td>\n",
       "      <td>0.0</td>\n",
       "    </tr>\n",
       "    <tr>\n",
       "      <th>13</th>\n",
       "      <td>212</td>\n",
       "      <td>PAYMENT</td>\n",
       "      <td>2477.51</td>\n",
       "      <td>C594267602</td>\n",
       "      <td>52736.00</td>\n",
       "      <td>50258.49</td>\n",
       "      <td>M134993353</td>\n",
       "      <td>0.00</td>\n",
       "      <td>0.00</td>\n",
       "      <td>0</td>\n",
       "      <td>0</td>\n",
       "      <td>2151495</td>\n",
       "      <td>2151495</td>\n",
       "      <td>100.000000</td>\n",
       "      <td>20</td>\n",
       "      <td>0.0</td>\n",
       "    </tr>\n",
       "    <tr>\n",
       "      <th>39</th>\n",
       "      <td>35</td>\n",
       "      <td>PAYMENT</td>\n",
       "      <td>1696.47</td>\n",
       "      <td>C1194789888</td>\n",
       "      <td>63088.67</td>\n",
       "      <td>61392.20</td>\n",
       "      <td>M2007925915</td>\n",
       "      <td>0.00</td>\n",
       "      <td>0.00</td>\n",
       "      <td>0</td>\n",
       "      <td>0</td>\n",
       "      <td>2151495</td>\n",
       "      <td>2151495</td>\n",
       "      <td>100.000000</td>\n",
       "      <td>11</td>\n",
       "      <td>0.0</td>\n",
       "    </tr>\n",
       "    <tr>\n",
       "      <th>58</th>\n",
       "      <td>180</td>\n",
       "      <td>PAYMENT</td>\n",
       "      <td>4354.10</td>\n",
       "      <td>C150576596</td>\n",
       "      <td>187903.00</td>\n",
       "      <td>183548.90</td>\n",
       "      <td>M1137521819</td>\n",
       "      <td>0.00</td>\n",
       "      <td>0.00</td>\n",
       "      <td>0</td>\n",
       "      <td>0</td>\n",
       "      <td>2151495</td>\n",
       "      <td>2151495</td>\n",
       "      <td>100.000000</td>\n",
       "      <td>12</td>\n",
       "      <td>0.0</td>\n",
       "    </tr>\n",
       "    <tr>\n",
       "      <th>...</th>\n",
       "      <td>...</td>\n",
       "      <td>...</td>\n",
       "      <td>...</td>\n",
       "      <td>...</td>\n",
       "      <td>...</td>\n",
       "      <td>...</td>\n",
       "      <td>...</td>\n",
       "      <td>...</td>\n",
       "      <td>...</td>\n",
       "      <td>...</td>\n",
       "      <td>...</td>\n",
       "      <td>...</td>\n",
       "      <td>...</td>\n",
       "      <td>...</td>\n",
       "      <td>...</td>\n",
       "      <td>...</td>\n",
       "    </tr>\n",
       "    <tr>\n",
       "      <th>8208</th>\n",
       "      <td>648</td>\n",
       "      <td>TRANSFER</td>\n",
       "      <td>1005346.72</td>\n",
       "      <td>C278258075</td>\n",
       "      <td>1005346.72</td>\n",
       "      <td>0.00</td>\n",
       "      <td>C28830193</td>\n",
       "      <td>0.00</td>\n",
       "      <td>0.00</td>\n",
       "      <td>1</td>\n",
       "      <td>0</td>\n",
       "      <td>4097</td>\n",
       "      <td>532909</td>\n",
       "      <td>0.768799</td>\n",
       "      <td>0</td>\n",
       "      <td>0.0</td>\n",
       "    </tr>\n",
       "    <tr>\n",
       "      <th>8209</th>\n",
       "      <td>577</td>\n",
       "      <td>TRANSFER</td>\n",
       "      <td>113687.00</td>\n",
       "      <td>C379022466</td>\n",
       "      <td>113687.00</td>\n",
       "      <td>0.00</td>\n",
       "      <td>C1223894198</td>\n",
       "      <td>0.00</td>\n",
       "      <td>0.00</td>\n",
       "      <td>1</td>\n",
       "      <td>0</td>\n",
       "      <td>4097</td>\n",
       "      <td>532909</td>\n",
       "      <td>0.768799</td>\n",
       "      <td>1</td>\n",
       "      <td>0.0</td>\n",
       "    </tr>\n",
       "    <tr>\n",
       "      <th>8210</th>\n",
       "      <td>297</td>\n",
       "      <td>TRANSFER</td>\n",
       "      <td>3105902.49</td>\n",
       "      <td>C483009518</td>\n",
       "      <td>3105902.49</td>\n",
       "      <td>0.00</td>\n",
       "      <td>C1272462265</td>\n",
       "      <td>0.00</td>\n",
       "      <td>0.00</td>\n",
       "      <td>1</td>\n",
       "      <td>0</td>\n",
       "      <td>4097</td>\n",
       "      <td>532909</td>\n",
       "      <td>0.768799</td>\n",
       "      <td>9</td>\n",
       "      <td>0.0</td>\n",
       "    </tr>\n",
       "    <tr>\n",
       "      <th>8211</th>\n",
       "      <td>446</td>\n",
       "      <td>CASH_OUT</td>\n",
       "      <td>311487.14</td>\n",
       "      <td>C171655471</td>\n",
       "      <td>311487.14</td>\n",
       "      <td>0.00</td>\n",
       "      <td>C73957643</td>\n",
       "      <td>753508.71</td>\n",
       "      <td>1064995.85</td>\n",
       "      <td>1</td>\n",
       "      <td>0</td>\n",
       "      <td>4116</td>\n",
       "      <td>2237500</td>\n",
       "      <td>0.183955</td>\n",
       "      <td>14</td>\n",
       "      <td>0.0</td>\n",
       "    </tr>\n",
       "    <tr>\n",
       "      <th>8212</th>\n",
       "      <td>303</td>\n",
       "      <td>CASH_OUT</td>\n",
       "      <td>5614246.07</td>\n",
       "      <td>C1340929577</td>\n",
       "      <td>5614246.07</td>\n",
       "      <td>0.00</td>\n",
       "      <td>C1754723066</td>\n",
       "      <td>0.00</td>\n",
       "      <td>5614246.07</td>\n",
       "      <td>1</td>\n",
       "      <td>0</td>\n",
       "      <td>4116</td>\n",
       "      <td>2237500</td>\n",
       "      <td>0.183955</td>\n",
       "      <td>15</td>\n",
       "      <td>0.0</td>\n",
       "    </tr>\n",
       "  </tbody>\n",
       "</table>\n",
       "<p>9328 rows × 16 columns</p>\n",
       "</div>"
      ],
      "text/plain": [
       "      step      type      amount     nameOrig  oldbalanceOrg  newbalanceOrig  \\\n",
       "5      354   PAYMENT    19207.56   C869140324       48908.00        29700.44   \n",
       "11     352  CASH_OUT   174874.39  C1567968097      555183.12       380308.73   \n",
       "13     212   PAYMENT     2477.51   C594267602       52736.00        50258.49   \n",
       "39      35   PAYMENT     1696.47  C1194789888       63088.67        61392.20   \n",
       "58     180   PAYMENT     4354.10   C150576596      187903.00       183548.90   \n",
       "...    ...       ...         ...          ...            ...             ...   \n",
       "8208   648  TRANSFER  1005346.72   C278258075     1005346.72            0.00   \n",
       "8209   577  TRANSFER   113687.00   C379022466      113687.00            0.00   \n",
       "8210   297  TRANSFER  3105902.49   C483009518     3105902.49            0.00   \n",
       "8211   446  CASH_OUT   311487.14   C171655471      311487.14            0.00   \n",
       "8212   303  CASH_OUT  5614246.07  C1340929577     5614246.07            0.00   \n",
       "\n",
       "         nameDest  oldbalanceDest  newbalanceDest  isFraud  isFlaggedFraud  \\\n",
       "5       M22240572            0.00            0.00        0               0   \n",
       "11    C2131416920      1338371.38      1513245.77        0               0   \n",
       "13     M134993353            0.00            0.00        0               0   \n",
       "39    M2007925915            0.00            0.00        0               0   \n",
       "58    M1137521819            0.00            0.00        0               0   \n",
       "...           ...             ...             ...      ...             ...   \n",
       "8208    C28830193            0.00            0.00        1               0   \n",
       "8209  C1223894198            0.00            0.00        1               0   \n",
       "8210  C1272462265            0.00            0.00        1               0   \n",
       "8211    C73957643       753508.71      1064995.85        1               0   \n",
       "8212  C1754723066            0.00      5614246.07        1               0   \n",
       "\n",
       "       Counts  Counts_Overall_type  Percentage  transactionHour  \\\n",
       "5     2151495              2151495  100.000000               18   \n",
       "11    2233384              2237500   99.816045               16   \n",
       "13    2151495              2151495  100.000000               20   \n",
       "39    2151495              2151495  100.000000               11   \n",
       "58    2151495              2151495  100.000000               12   \n",
       "...       ...                  ...         ...              ...   \n",
       "8208     4097               532909    0.768799                0   \n",
       "8209     4097               532909    0.768799                1   \n",
       "8210     4097               532909    0.768799                9   \n",
       "8211     4116              2237500    0.183955               14   \n",
       "8212     4116              2237500    0.183955               15   \n",
       "\n",
       "      errorBalanceOriginal  \n",
       "5                      0.0  \n",
       "11                     0.0  \n",
       "13                     0.0  \n",
       "39                     0.0  \n",
       "58                     0.0  \n",
       "...                    ...  \n",
       "8208                   0.0  \n",
       "8209                   0.0  \n",
       "8210                   0.0  \n",
       "8211                   0.0  \n",
       "8212                   0.0  \n",
       "\n",
       "[9328 rows x 16 columns]"
      ]
     },
     "execution_count": 29,
     "metadata": {},
     "output_type": "execute_result"
    }
   ],
   "source": [
    "data[data['errorBalanceOriginal']==0]"
   ]
  },
  {
   "cell_type": "code",
   "execution_count": 30,
   "id": "peripheral-muslim",
   "metadata": {},
   "outputs": [],
   "source": [
    "# Similarly for destination account valid for outgoing transactions only\n",
    "data['errorBalanceDestination'] = data['oldbalanceDest'] + data['amount'] - data['newbalanceDest']"
   ]
  },
  {
   "cell_type": "code",
   "execution_count": 31,
   "id": "ethical-score",
   "metadata": {},
   "outputs": [
    {
     "data": {
      "text/html": [
       "<div>\n",
       "<style scoped>\n",
       "    .dataframe tbody tr th:only-of-type {\n",
       "        vertical-align: middle;\n",
       "    }\n",
       "\n",
       "    .dataframe tbody tr th {\n",
       "        vertical-align: top;\n",
       "    }\n",
       "\n",
       "    .dataframe thead th {\n",
       "        text-align: right;\n",
       "    }\n",
       "</style>\n",
       "<table border=\"1\" class=\"dataframe\">\n",
       "  <thead>\n",
       "    <tr style=\"text-align: right;\">\n",
       "      <th></th>\n",
       "      <th>step</th>\n",
       "      <th>type</th>\n",
       "      <th>amount</th>\n",
       "      <th>nameOrig</th>\n",
       "      <th>oldbalanceOrg</th>\n",
       "      <th>newbalanceOrig</th>\n",
       "      <th>nameDest</th>\n",
       "      <th>oldbalanceDest</th>\n",
       "      <th>newbalanceDest</th>\n",
       "      <th>isFraud</th>\n",
       "      <th>isFlaggedFraud</th>\n",
       "      <th>Counts</th>\n",
       "      <th>Counts_Overall_type</th>\n",
       "      <th>Percentage</th>\n",
       "      <th>transactionHour</th>\n",
       "      <th>errorBalanceOriginal</th>\n",
       "      <th>errorBalanceDestination</th>\n",
       "    </tr>\n",
       "  </thead>\n",
       "  <tbody>\n",
       "    <tr>\n",
       "      <th>0</th>\n",
       "      <td>398</td>\n",
       "      <td>CASH_IN</td>\n",
       "      <td>172790.03</td>\n",
       "      <td>C537966719</td>\n",
       "      <td>2536449.75</td>\n",
       "      <td>2709239.78</td>\n",
       "      <td>C155082523</td>\n",
       "      <td>354195.74</td>\n",
       "      <td>181405.71</td>\n",
       "      <td>0</td>\n",
       "      <td>0</td>\n",
       "      <td>1399284</td>\n",
       "      <td>1399284</td>\n",
       "      <td>100.0</td>\n",
       "      <td>14</td>\n",
       "      <td>345580.06</td>\n",
       "      <td>345580.06</td>\n",
       "    </tr>\n",
       "  </tbody>\n",
       "</table>\n",
       "</div>"
      ],
      "text/plain": [
       "   step     type     amount    nameOrig  oldbalanceOrg  newbalanceOrig  \\\n",
       "0   398  CASH_IN  172790.03  C537966719     2536449.75      2709239.78   \n",
       "\n",
       "     nameDest  oldbalanceDest  newbalanceDest  isFraud  isFlaggedFraud  \\\n",
       "0  C155082523       354195.74       181405.71        0               0   \n",
       "\n",
       "    Counts  Counts_Overall_type  Percentage  transactionHour  \\\n",
       "0  1399284              1399284       100.0               14   \n",
       "\n",
       "   errorBalanceOriginal  errorBalanceDestination  \n",
       "0             345580.06                345580.06  "
      ]
     },
     "execution_count": 31,
     "metadata": {},
     "output_type": "execute_result"
    }
   ],
   "source": [
    "data.head(1)"
   ]
  },
  {
   "cell_type": "code",
   "execution_count": 32,
   "id": "architectural-montana",
   "metadata": {},
   "outputs": [],
   "source": [
    "# Understanding more about Fraud Cases \n",
    "data1=data[data['isFraud']==1]"
   ]
  },
  {
   "cell_type": "code",
   "execution_count": 33,
   "id": "previous-austria",
   "metadata": {},
   "outputs": [],
   "source": [
    "# Checking if old balance original and new balance original wrt Fraud Cases\n",
    "# Reference: https://stackoverflow.com/questions/22591174/pandas-multiple-conditions-while-indexing-data-frame-unexpected-behavior\n",
    "data2=data1[(data1['oldbalanceOrg']==0) & (data1['newbalanceOrig']==0)]"
   ]
  },
  {
   "cell_type": "code",
   "execution_count": 34,
   "id": "polish-significance",
   "metadata": {},
   "outputs": [
    {
     "data": {
      "text/plain": [
       "41"
      ]
     },
     "execution_count": 34,
     "metadata": {},
     "output_type": "execute_result"
    }
   ],
   "source": [
    "len(data2)"
   ]
  },
  {
   "cell_type": "code",
   "execution_count": 35,
   "id": "competitive-scotland",
   "metadata": {},
   "outputs": [
    {
     "data": {
      "text/plain": [
       "8213"
      ]
     },
     "execution_count": 35,
     "metadata": {},
     "output_type": "execute_result"
    }
   ],
   "source": [
    "len(data1)"
   ]
  },
  {
   "cell_type": "code",
   "execution_count": 36,
   "id": "cosmetic-financing",
   "metadata": {},
   "outputs": [
    {
     "data": {
      "text/plain": [
       "0.00499208571776452"
      ]
     },
     "execution_count": 36,
     "metadata": {},
     "output_type": "execute_result"
    }
   ],
   "source": [
    "41/8213"
   ]
  },
  {
   "cell_type": "markdown",
   "id": "injured-navigation",
   "metadata": {},
   "source": [
    "# Observations:\n",
    "<br> 0.5% of total fraud cases occur when Old And New Balance Original are 0</br>"
   ]
  },
  {
   "cell_type": "code",
   "execution_count": 37,
   "id": "swiss-gates",
   "metadata": {},
   "outputs": [],
   "source": [
    "# Checking if old balance original and new balance original wrt Fraud Cases\n",
    "# Reference: https://stackoverflow.com/questions/22591174/pandas-multiple-conditions-while-indexing-data-frame-unexpected-behavior\n",
    "data3=data1[(data1['oldbalanceDest']==0) & (data1['newbalanceDest']==0)]"
   ]
  },
  {
   "cell_type": "code",
   "execution_count": 38,
   "id": "initial-immunology",
   "metadata": {},
   "outputs": [
    {
     "data": {
      "text/plain": [
       "4076"
      ]
     },
     "execution_count": 38,
     "metadata": {},
     "output_type": "execute_result"
    }
   ],
   "source": [
    "len(data3)"
   ]
  },
  {
   "cell_type": "markdown",
   "id": "muslim-association",
   "metadata": {},
   "source": [
    "# Observations:\n",
    "<br> Around 50% of total fraud points are when Old and New Destination is 0 </br>"
   ]
  },
  {
   "cell_type": "code",
   "execution_count": 40,
   "id": "southeast-upset",
   "metadata": {},
   "outputs": [
    {
     "data": {
      "text/html": [
       "<div>\n",
       "<style scoped>\n",
       "    .dataframe tbody tr th:only-of-type {\n",
       "        vertical-align: middle;\n",
       "    }\n",
       "\n",
       "    .dataframe tbody tr th {\n",
       "        vertical-align: top;\n",
       "    }\n",
       "\n",
       "    .dataframe thead th {\n",
       "        text-align: right;\n",
       "    }\n",
       "</style>\n",
       "<table border=\"1\" class=\"dataframe\">\n",
       "  <thead>\n",
       "    <tr style=\"text-align: right;\">\n",
       "      <th></th>\n",
       "      <th>step</th>\n",
       "      <th>type</th>\n",
       "      <th>amount</th>\n",
       "      <th>nameOrig</th>\n",
       "      <th>oldbalanceOrg</th>\n",
       "      <th>newbalanceOrig</th>\n",
       "      <th>nameDest</th>\n",
       "      <th>oldbalanceDest</th>\n",
       "      <th>newbalanceDest</th>\n",
       "      <th>isFraud</th>\n",
       "      <th>isFlaggedFraud</th>\n",
       "      <th>Counts</th>\n",
       "      <th>Counts_Overall_type</th>\n",
       "      <th>Percentage</th>\n",
       "      <th>transactionHour</th>\n",
       "      <th>errorBalanceOriginal</th>\n",
       "      <th>errorBalanceDestination</th>\n",
       "    </tr>\n",
       "  </thead>\n",
       "  <tbody>\n",
       "    <tr>\n",
       "      <th>0</th>\n",
       "      <td>398</td>\n",
       "      <td>CASH_IN</td>\n",
       "      <td>172790.03</td>\n",
       "      <td>C537966719</td>\n",
       "      <td>2536449.75</td>\n",
       "      <td>2709239.78</td>\n",
       "      <td>C155082523</td>\n",
       "      <td>354195.74</td>\n",
       "      <td>181405.71</td>\n",
       "      <td>0</td>\n",
       "      <td>0</td>\n",
       "      <td>1399284</td>\n",
       "      <td>1399284</td>\n",
       "      <td>100.000000</td>\n",
       "      <td>14</td>\n",
       "      <td>345580.06</td>\n",
       "      <td>3.455801e+05</td>\n",
       "    </tr>\n",
       "    <tr>\n",
       "      <th>1</th>\n",
       "      <td>547</td>\n",
       "      <td>CASH_IN</td>\n",
       "      <td>89523.46</td>\n",
       "      <td>C1613345463</td>\n",
       "      <td>7333933.85</td>\n",
       "      <td>7423457.31</td>\n",
       "      <td>C1495397465</td>\n",
       "      <td>240134.59</td>\n",
       "      <td>150611.13</td>\n",
       "      <td>0</td>\n",
       "      <td>0</td>\n",
       "      <td>1399284</td>\n",
       "      <td>1399284</td>\n",
       "      <td>100.000000</td>\n",
       "      <td>19</td>\n",
       "      <td>179046.92</td>\n",
       "      <td>1.790469e+05</td>\n",
       "    </tr>\n",
       "    <tr>\n",
       "      <th>2</th>\n",
       "      <td>131</td>\n",
       "      <td>TRANSFER</td>\n",
       "      <td>519186.22</td>\n",
       "      <td>C690828406</td>\n",
       "      <td>45691.39</td>\n",
       "      <td>0.00</td>\n",
       "      <td>C306779155</td>\n",
       "      <td>749757.08</td>\n",
       "      <td>1268943.30</td>\n",
       "      <td>0</td>\n",
       "      <td>0</td>\n",
       "      <td>528812</td>\n",
       "      <td>532909</td>\n",
       "      <td>99.231201</td>\n",
       "      <td>11</td>\n",
       "      <td>473494.83</td>\n",
       "      <td>-2.328306e-10</td>\n",
       "    </tr>\n",
       "    <tr>\n",
       "      <th>3</th>\n",
       "      <td>15</td>\n",
       "      <td>CASH_OUT</td>\n",
       "      <td>416961.36</td>\n",
       "      <td>C212907972</td>\n",
       "      <td>0.00</td>\n",
       "      <td>0.00</td>\n",
       "      <td>C979637490</td>\n",
       "      <td>1834484.90</td>\n",
       "      <td>2251446.26</td>\n",
       "      <td>0</td>\n",
       "      <td>0</td>\n",
       "      <td>2233384</td>\n",
       "      <td>2237500</td>\n",
       "      <td>99.816045</td>\n",
       "      <td>15</td>\n",
       "      <td>416961.36</td>\n",
       "      <td>0.000000e+00</td>\n",
       "    </tr>\n",
       "    <tr>\n",
       "      <th>4</th>\n",
       "      <td>328</td>\n",
       "      <td>PAYMENT</td>\n",
       "      <td>10352.15</td>\n",
       "      <td>C150456811</td>\n",
       "      <td>0.00</td>\n",
       "      <td>0.00</td>\n",
       "      <td>M2096233213</td>\n",
       "      <td>0.00</td>\n",
       "      <td>0.00</td>\n",
       "      <td>0</td>\n",
       "      <td>0</td>\n",
       "      <td>2151495</td>\n",
       "      <td>2151495</td>\n",
       "      <td>100.000000</td>\n",
       "      <td>16</td>\n",
       "      <td>10352.15</td>\n",
       "      <td>1.035215e+04</td>\n",
       "    </tr>\n",
       "    <tr>\n",
       "      <th>...</th>\n",
       "      <td>...</td>\n",
       "      <td>...</td>\n",
       "      <td>...</td>\n",
       "      <td>...</td>\n",
       "      <td>...</td>\n",
       "      <td>...</td>\n",
       "      <td>...</td>\n",
       "      <td>...</td>\n",
       "      <td>...</td>\n",
       "      <td>...</td>\n",
       "      <td>...</td>\n",
       "      <td>...</td>\n",
       "      <td>...</td>\n",
       "      <td>...</td>\n",
       "      <td>...</td>\n",
       "      <td>...</td>\n",
       "      <td>...</td>\n",
       "    </tr>\n",
       "    <tr>\n",
       "      <th>8208</th>\n",
       "      <td>648</td>\n",
       "      <td>TRANSFER</td>\n",
       "      <td>1005346.72</td>\n",
       "      <td>C278258075</td>\n",
       "      <td>1005346.72</td>\n",
       "      <td>0.00</td>\n",
       "      <td>C28830193</td>\n",
       "      <td>0.00</td>\n",
       "      <td>0.00</td>\n",
       "      <td>1</td>\n",
       "      <td>0</td>\n",
       "      <td>4097</td>\n",
       "      <td>532909</td>\n",
       "      <td>0.768799</td>\n",
       "      <td>0</td>\n",
       "      <td>0.00</td>\n",
       "      <td>1.005347e+06</td>\n",
       "    </tr>\n",
       "    <tr>\n",
       "      <th>8209</th>\n",
       "      <td>577</td>\n",
       "      <td>TRANSFER</td>\n",
       "      <td>113687.00</td>\n",
       "      <td>C379022466</td>\n",
       "      <td>113687.00</td>\n",
       "      <td>0.00</td>\n",
       "      <td>C1223894198</td>\n",
       "      <td>0.00</td>\n",
       "      <td>0.00</td>\n",
       "      <td>1</td>\n",
       "      <td>0</td>\n",
       "      <td>4097</td>\n",
       "      <td>532909</td>\n",
       "      <td>0.768799</td>\n",
       "      <td>1</td>\n",
       "      <td>0.00</td>\n",
       "      <td>1.136870e+05</td>\n",
       "    </tr>\n",
       "    <tr>\n",
       "      <th>8210</th>\n",
       "      <td>297</td>\n",
       "      <td>TRANSFER</td>\n",
       "      <td>3105902.49</td>\n",
       "      <td>C483009518</td>\n",
       "      <td>3105902.49</td>\n",
       "      <td>0.00</td>\n",
       "      <td>C1272462265</td>\n",
       "      <td>0.00</td>\n",
       "      <td>0.00</td>\n",
       "      <td>1</td>\n",
       "      <td>0</td>\n",
       "      <td>4097</td>\n",
       "      <td>532909</td>\n",
       "      <td>0.768799</td>\n",
       "      <td>9</td>\n",
       "      <td>0.00</td>\n",
       "      <td>3.105902e+06</td>\n",
       "    </tr>\n",
       "    <tr>\n",
       "      <th>8211</th>\n",
       "      <td>446</td>\n",
       "      <td>CASH_OUT</td>\n",
       "      <td>311487.14</td>\n",
       "      <td>C171655471</td>\n",
       "      <td>311487.14</td>\n",
       "      <td>0.00</td>\n",
       "      <td>C73957643</td>\n",
       "      <td>753508.71</td>\n",
       "      <td>1064995.85</td>\n",
       "      <td>1</td>\n",
       "      <td>0</td>\n",
       "      <td>4116</td>\n",
       "      <td>2237500</td>\n",
       "      <td>0.183955</td>\n",
       "      <td>14</td>\n",
       "      <td>0.00</td>\n",
       "      <td>0.000000e+00</td>\n",
       "    </tr>\n",
       "    <tr>\n",
       "      <th>8212</th>\n",
       "      <td>303</td>\n",
       "      <td>CASH_OUT</td>\n",
       "      <td>5614246.07</td>\n",
       "      <td>C1340929577</td>\n",
       "      <td>5614246.07</td>\n",
       "      <td>0.00</td>\n",
       "      <td>C1754723066</td>\n",
       "      <td>0.00</td>\n",
       "      <td>5614246.07</td>\n",
       "      <td>1</td>\n",
       "      <td>0</td>\n",
       "      <td>4116</td>\n",
       "      <td>2237500</td>\n",
       "      <td>0.183955</td>\n",
       "      <td>15</td>\n",
       "      <td>0.00</td>\n",
       "      <td>0.000000e+00</td>\n",
       "    </tr>\n",
       "  </tbody>\n",
       "</table>\n",
       "<p>16426 rows × 17 columns</p>\n",
       "</div>"
      ],
      "text/plain": [
       "      step      type      amount     nameOrig  oldbalanceOrg  newbalanceOrig  \\\n",
       "0      398   CASH_IN   172790.03   C537966719     2536449.75      2709239.78   \n",
       "1      547   CASH_IN    89523.46  C1613345463     7333933.85      7423457.31   \n",
       "2      131  TRANSFER   519186.22   C690828406       45691.39            0.00   \n",
       "3       15  CASH_OUT   416961.36   C212907972           0.00            0.00   \n",
       "4      328   PAYMENT    10352.15   C150456811           0.00            0.00   \n",
       "...    ...       ...         ...          ...            ...             ...   \n",
       "8208   648  TRANSFER  1005346.72   C278258075     1005346.72            0.00   \n",
       "8209   577  TRANSFER   113687.00   C379022466      113687.00            0.00   \n",
       "8210   297  TRANSFER  3105902.49   C483009518     3105902.49            0.00   \n",
       "8211   446  CASH_OUT   311487.14   C171655471      311487.14            0.00   \n",
       "8212   303  CASH_OUT  5614246.07  C1340929577     5614246.07            0.00   \n",
       "\n",
       "         nameDest  oldbalanceDest  newbalanceDest  isFraud  isFlaggedFraud  \\\n",
       "0      C155082523       354195.74       181405.71        0               0   \n",
       "1     C1495397465       240134.59       150611.13        0               0   \n",
       "2      C306779155       749757.08      1268943.30        0               0   \n",
       "3      C979637490      1834484.90      2251446.26        0               0   \n",
       "4     M2096233213            0.00            0.00        0               0   \n",
       "...           ...             ...             ...      ...             ...   \n",
       "8208    C28830193            0.00            0.00        1               0   \n",
       "8209  C1223894198            0.00            0.00        1               0   \n",
       "8210  C1272462265            0.00            0.00        1               0   \n",
       "8211    C73957643       753508.71      1064995.85        1               0   \n",
       "8212  C1754723066            0.00      5614246.07        1               0   \n",
       "\n",
       "       Counts  Counts_Overall_type  Percentage  transactionHour  \\\n",
       "0     1399284              1399284  100.000000               14   \n",
       "1     1399284              1399284  100.000000               19   \n",
       "2      528812               532909   99.231201               11   \n",
       "3     2233384              2237500   99.816045               15   \n",
       "4     2151495              2151495  100.000000               16   \n",
       "...       ...                  ...         ...              ...   \n",
       "8208     4097               532909    0.768799                0   \n",
       "8209     4097               532909    0.768799                1   \n",
       "8210     4097               532909    0.768799                9   \n",
       "8211     4116              2237500    0.183955               14   \n",
       "8212     4116              2237500    0.183955               15   \n",
       "\n",
       "      errorBalanceOriginal  errorBalanceDestination  \n",
       "0                345580.06             3.455801e+05  \n",
       "1                179046.92             1.790469e+05  \n",
       "2                473494.83            -2.328306e-10  \n",
       "3                416961.36             0.000000e+00  \n",
       "4                 10352.15             1.035215e+04  \n",
       "...                    ...                      ...  \n",
       "8208                  0.00             1.005347e+06  \n",
       "8209                  0.00             1.136870e+05  \n",
       "8210                  0.00             3.105902e+06  \n",
       "8211                  0.00             0.000000e+00  \n",
       "8212                  0.00             0.000000e+00  \n",
       "\n",
       "[16426 rows x 17 columns]"
      ]
     },
     "execution_count": 40,
     "metadata": {},
     "output_type": "execute_result"
    }
   ],
   "source": [
    "data"
   ]
  },
  {
   "cell_type": "code",
   "execution_count": 41,
   "id": "behavioral-harvest",
   "metadata": {},
   "outputs": [],
   "source": [
    "X=data.drop(data.columns[[9]], axis=1)"
   ]
  },
  {
   "cell_type": "code",
   "execution_count": 42,
   "id": "basic-friend",
   "metadata": {},
   "outputs": [
    {
     "data": {
      "text/html": [
       "<div>\n",
       "<style scoped>\n",
       "    .dataframe tbody tr th:only-of-type {\n",
       "        vertical-align: middle;\n",
       "    }\n",
       "\n",
       "    .dataframe tbody tr th {\n",
       "        vertical-align: top;\n",
       "    }\n",
       "\n",
       "    .dataframe thead th {\n",
       "        text-align: right;\n",
       "    }\n",
       "</style>\n",
       "<table border=\"1\" class=\"dataframe\">\n",
       "  <thead>\n",
       "    <tr style=\"text-align: right;\">\n",
       "      <th></th>\n",
       "      <th>step</th>\n",
       "      <th>type</th>\n",
       "      <th>amount</th>\n",
       "      <th>nameOrig</th>\n",
       "      <th>oldbalanceOrg</th>\n",
       "      <th>newbalanceOrig</th>\n",
       "      <th>nameDest</th>\n",
       "      <th>oldbalanceDest</th>\n",
       "      <th>newbalanceDest</th>\n",
       "      <th>isFlaggedFraud</th>\n",
       "      <th>Counts</th>\n",
       "      <th>Counts_Overall_type</th>\n",
       "      <th>Percentage</th>\n",
       "      <th>transactionHour</th>\n",
       "      <th>errorBalanceOriginal</th>\n",
       "      <th>errorBalanceDestination</th>\n",
       "    </tr>\n",
       "  </thead>\n",
       "  <tbody>\n",
       "    <tr>\n",
       "      <th>0</th>\n",
       "      <td>398</td>\n",
       "      <td>CASH_IN</td>\n",
       "      <td>172790.03</td>\n",
       "      <td>C537966719</td>\n",
       "      <td>2536449.75</td>\n",
       "      <td>2709239.78</td>\n",
       "      <td>C155082523</td>\n",
       "      <td>354195.74</td>\n",
       "      <td>181405.71</td>\n",
       "      <td>0</td>\n",
       "      <td>1399284</td>\n",
       "      <td>1399284</td>\n",
       "      <td>100.000000</td>\n",
       "      <td>14</td>\n",
       "      <td>345580.06</td>\n",
       "      <td>3.455801e+05</td>\n",
       "    </tr>\n",
       "    <tr>\n",
       "      <th>1</th>\n",
       "      <td>547</td>\n",
       "      <td>CASH_IN</td>\n",
       "      <td>89523.46</td>\n",
       "      <td>C1613345463</td>\n",
       "      <td>7333933.85</td>\n",
       "      <td>7423457.31</td>\n",
       "      <td>C1495397465</td>\n",
       "      <td>240134.59</td>\n",
       "      <td>150611.13</td>\n",
       "      <td>0</td>\n",
       "      <td>1399284</td>\n",
       "      <td>1399284</td>\n",
       "      <td>100.000000</td>\n",
       "      <td>19</td>\n",
       "      <td>179046.92</td>\n",
       "      <td>1.790469e+05</td>\n",
       "    </tr>\n",
       "    <tr>\n",
       "      <th>2</th>\n",
       "      <td>131</td>\n",
       "      <td>TRANSFER</td>\n",
       "      <td>519186.22</td>\n",
       "      <td>C690828406</td>\n",
       "      <td>45691.39</td>\n",
       "      <td>0.00</td>\n",
       "      <td>C306779155</td>\n",
       "      <td>749757.08</td>\n",
       "      <td>1268943.30</td>\n",
       "      <td>0</td>\n",
       "      <td>528812</td>\n",
       "      <td>532909</td>\n",
       "      <td>99.231201</td>\n",
       "      <td>11</td>\n",
       "      <td>473494.83</td>\n",
       "      <td>-2.328306e-10</td>\n",
       "    </tr>\n",
       "    <tr>\n",
       "      <th>3</th>\n",
       "      <td>15</td>\n",
       "      <td>CASH_OUT</td>\n",
       "      <td>416961.36</td>\n",
       "      <td>C212907972</td>\n",
       "      <td>0.00</td>\n",
       "      <td>0.00</td>\n",
       "      <td>C979637490</td>\n",
       "      <td>1834484.90</td>\n",
       "      <td>2251446.26</td>\n",
       "      <td>0</td>\n",
       "      <td>2233384</td>\n",
       "      <td>2237500</td>\n",
       "      <td>99.816045</td>\n",
       "      <td>15</td>\n",
       "      <td>416961.36</td>\n",
       "      <td>0.000000e+00</td>\n",
       "    </tr>\n",
       "    <tr>\n",
       "      <th>4</th>\n",
       "      <td>328</td>\n",
       "      <td>PAYMENT</td>\n",
       "      <td>10352.15</td>\n",
       "      <td>C150456811</td>\n",
       "      <td>0.00</td>\n",
       "      <td>0.00</td>\n",
       "      <td>M2096233213</td>\n",
       "      <td>0.00</td>\n",
       "      <td>0.00</td>\n",
       "      <td>0</td>\n",
       "      <td>2151495</td>\n",
       "      <td>2151495</td>\n",
       "      <td>100.000000</td>\n",
       "      <td>16</td>\n",
       "      <td>10352.15</td>\n",
       "      <td>1.035215e+04</td>\n",
       "    </tr>\n",
       "    <tr>\n",
       "      <th>...</th>\n",
       "      <td>...</td>\n",
       "      <td>...</td>\n",
       "      <td>...</td>\n",
       "      <td>...</td>\n",
       "      <td>...</td>\n",
       "      <td>...</td>\n",
       "      <td>...</td>\n",
       "      <td>...</td>\n",
       "      <td>...</td>\n",
       "      <td>...</td>\n",
       "      <td>...</td>\n",
       "      <td>...</td>\n",
       "      <td>...</td>\n",
       "      <td>...</td>\n",
       "      <td>...</td>\n",
       "      <td>...</td>\n",
       "    </tr>\n",
       "    <tr>\n",
       "      <th>8208</th>\n",
       "      <td>648</td>\n",
       "      <td>TRANSFER</td>\n",
       "      <td>1005346.72</td>\n",
       "      <td>C278258075</td>\n",
       "      <td>1005346.72</td>\n",
       "      <td>0.00</td>\n",
       "      <td>C28830193</td>\n",
       "      <td>0.00</td>\n",
       "      <td>0.00</td>\n",
       "      <td>0</td>\n",
       "      <td>4097</td>\n",
       "      <td>532909</td>\n",
       "      <td>0.768799</td>\n",
       "      <td>0</td>\n",
       "      <td>0.00</td>\n",
       "      <td>1.005347e+06</td>\n",
       "    </tr>\n",
       "    <tr>\n",
       "      <th>8209</th>\n",
       "      <td>577</td>\n",
       "      <td>TRANSFER</td>\n",
       "      <td>113687.00</td>\n",
       "      <td>C379022466</td>\n",
       "      <td>113687.00</td>\n",
       "      <td>0.00</td>\n",
       "      <td>C1223894198</td>\n",
       "      <td>0.00</td>\n",
       "      <td>0.00</td>\n",
       "      <td>0</td>\n",
       "      <td>4097</td>\n",
       "      <td>532909</td>\n",
       "      <td>0.768799</td>\n",
       "      <td>1</td>\n",
       "      <td>0.00</td>\n",
       "      <td>1.136870e+05</td>\n",
       "    </tr>\n",
       "    <tr>\n",
       "      <th>8210</th>\n",
       "      <td>297</td>\n",
       "      <td>TRANSFER</td>\n",
       "      <td>3105902.49</td>\n",
       "      <td>C483009518</td>\n",
       "      <td>3105902.49</td>\n",
       "      <td>0.00</td>\n",
       "      <td>C1272462265</td>\n",
       "      <td>0.00</td>\n",
       "      <td>0.00</td>\n",
       "      <td>0</td>\n",
       "      <td>4097</td>\n",
       "      <td>532909</td>\n",
       "      <td>0.768799</td>\n",
       "      <td>9</td>\n",
       "      <td>0.00</td>\n",
       "      <td>3.105902e+06</td>\n",
       "    </tr>\n",
       "    <tr>\n",
       "      <th>8211</th>\n",
       "      <td>446</td>\n",
       "      <td>CASH_OUT</td>\n",
       "      <td>311487.14</td>\n",
       "      <td>C171655471</td>\n",
       "      <td>311487.14</td>\n",
       "      <td>0.00</td>\n",
       "      <td>C73957643</td>\n",
       "      <td>753508.71</td>\n",
       "      <td>1064995.85</td>\n",
       "      <td>0</td>\n",
       "      <td>4116</td>\n",
       "      <td>2237500</td>\n",
       "      <td>0.183955</td>\n",
       "      <td>14</td>\n",
       "      <td>0.00</td>\n",
       "      <td>0.000000e+00</td>\n",
       "    </tr>\n",
       "    <tr>\n",
       "      <th>8212</th>\n",
       "      <td>303</td>\n",
       "      <td>CASH_OUT</td>\n",
       "      <td>5614246.07</td>\n",
       "      <td>C1340929577</td>\n",
       "      <td>5614246.07</td>\n",
       "      <td>0.00</td>\n",
       "      <td>C1754723066</td>\n",
       "      <td>0.00</td>\n",
       "      <td>5614246.07</td>\n",
       "      <td>0</td>\n",
       "      <td>4116</td>\n",
       "      <td>2237500</td>\n",
       "      <td>0.183955</td>\n",
       "      <td>15</td>\n",
       "      <td>0.00</td>\n",
       "      <td>0.000000e+00</td>\n",
       "    </tr>\n",
       "  </tbody>\n",
       "</table>\n",
       "<p>16426 rows × 16 columns</p>\n",
       "</div>"
      ],
      "text/plain": [
       "      step      type      amount     nameOrig  oldbalanceOrg  newbalanceOrig  \\\n",
       "0      398   CASH_IN   172790.03   C537966719     2536449.75      2709239.78   \n",
       "1      547   CASH_IN    89523.46  C1613345463     7333933.85      7423457.31   \n",
       "2      131  TRANSFER   519186.22   C690828406       45691.39            0.00   \n",
       "3       15  CASH_OUT   416961.36   C212907972           0.00            0.00   \n",
       "4      328   PAYMENT    10352.15   C150456811           0.00            0.00   \n",
       "...    ...       ...         ...          ...            ...             ...   \n",
       "8208   648  TRANSFER  1005346.72   C278258075     1005346.72            0.00   \n",
       "8209   577  TRANSFER   113687.00   C379022466      113687.00            0.00   \n",
       "8210   297  TRANSFER  3105902.49   C483009518     3105902.49            0.00   \n",
       "8211   446  CASH_OUT   311487.14   C171655471      311487.14            0.00   \n",
       "8212   303  CASH_OUT  5614246.07  C1340929577     5614246.07            0.00   \n",
       "\n",
       "         nameDest  oldbalanceDest  newbalanceDest  isFlaggedFraud   Counts  \\\n",
       "0      C155082523       354195.74       181405.71               0  1399284   \n",
       "1     C1495397465       240134.59       150611.13               0  1399284   \n",
       "2      C306779155       749757.08      1268943.30               0   528812   \n",
       "3      C979637490      1834484.90      2251446.26               0  2233384   \n",
       "4     M2096233213            0.00            0.00               0  2151495   \n",
       "...           ...             ...             ...             ...      ...   \n",
       "8208    C28830193            0.00            0.00               0     4097   \n",
       "8209  C1223894198            0.00            0.00               0     4097   \n",
       "8210  C1272462265            0.00            0.00               0     4097   \n",
       "8211    C73957643       753508.71      1064995.85               0     4116   \n",
       "8212  C1754723066            0.00      5614246.07               0     4116   \n",
       "\n",
       "      Counts_Overall_type  Percentage  transactionHour  errorBalanceOriginal  \\\n",
       "0                 1399284  100.000000               14             345580.06   \n",
       "1                 1399284  100.000000               19             179046.92   \n",
       "2                  532909   99.231201               11             473494.83   \n",
       "3                 2237500   99.816045               15             416961.36   \n",
       "4                 2151495  100.000000               16              10352.15   \n",
       "...                   ...         ...              ...                   ...   \n",
       "8208               532909    0.768799                0                  0.00   \n",
       "8209               532909    0.768799                1                  0.00   \n",
       "8210               532909    0.768799                9                  0.00   \n",
       "8211              2237500    0.183955               14                  0.00   \n",
       "8212              2237500    0.183955               15                  0.00   \n",
       "\n",
       "      errorBalanceDestination  \n",
       "0                3.455801e+05  \n",
       "1                1.790469e+05  \n",
       "2               -2.328306e-10  \n",
       "3                0.000000e+00  \n",
       "4                1.035215e+04  \n",
       "...                       ...  \n",
       "8208             1.005347e+06  \n",
       "8209             1.136870e+05  \n",
       "8210             3.105902e+06  \n",
       "8211             0.000000e+00  \n",
       "8212             0.000000e+00  \n",
       "\n",
       "[16426 rows x 16 columns]"
      ]
     },
     "execution_count": 42,
     "metadata": {},
     "output_type": "execute_result"
    }
   ],
   "source": [
    "X"
   ]
  },
  {
   "cell_type": "code",
   "execution_count": 43,
   "id": "congressional-upgrade",
   "metadata": {},
   "outputs": [],
   "source": [
    "y=data['isFraud'].values"
   ]
  },
  {
   "cell_type": "code",
   "execution_count": 44,
   "id": "clear-montana",
   "metadata": {},
   "outputs": [],
   "source": [
    "\n",
    "X=data[['type','amount','nameOrig','oldbalanceOrg','newbalanceOrig','nameDest','oldbalanceDest','newbalanceDest','transactionHour','errorBalanceOriginal','errorBalanceDestination']]\n",
    "y=data['isFraud'].values"
   ]
  },
  {
   "cell_type": "code",
   "execution_count": 45,
   "id": "twenty-collapse",
   "metadata": {},
   "outputs": [
    {
     "data": {
      "text/html": [
       "<div>\n",
       "<style scoped>\n",
       "    .dataframe tbody tr th:only-of-type {\n",
       "        vertical-align: middle;\n",
       "    }\n",
       "\n",
       "    .dataframe tbody tr th {\n",
       "        vertical-align: top;\n",
       "    }\n",
       "\n",
       "    .dataframe thead th {\n",
       "        text-align: right;\n",
       "    }\n",
       "</style>\n",
       "<table border=\"1\" class=\"dataframe\">\n",
       "  <thead>\n",
       "    <tr style=\"text-align: right;\">\n",
       "      <th></th>\n",
       "      <th>type</th>\n",
       "      <th>amount</th>\n",
       "      <th>nameOrig</th>\n",
       "      <th>oldbalanceOrg</th>\n",
       "      <th>newbalanceOrig</th>\n",
       "      <th>nameDest</th>\n",
       "      <th>oldbalanceDest</th>\n",
       "      <th>newbalanceDest</th>\n",
       "      <th>transactionHour</th>\n",
       "      <th>errorBalanceOriginal</th>\n",
       "      <th>errorBalanceDestination</th>\n",
       "    </tr>\n",
       "  </thead>\n",
       "  <tbody>\n",
       "    <tr>\n",
       "      <th>0</th>\n",
       "      <td>CASH_IN</td>\n",
       "      <td>172790.03</td>\n",
       "      <td>C537966719</td>\n",
       "      <td>2536449.75</td>\n",
       "      <td>2709239.78</td>\n",
       "      <td>C155082523</td>\n",
       "      <td>354195.74</td>\n",
       "      <td>181405.71</td>\n",
       "      <td>14</td>\n",
       "      <td>345580.06</td>\n",
       "      <td>345580.06</td>\n",
       "    </tr>\n",
       "  </tbody>\n",
       "</table>\n",
       "</div>"
      ],
      "text/plain": [
       "      type     amount    nameOrig  oldbalanceOrg  newbalanceOrig    nameDest  \\\n",
       "0  CASH_IN  172790.03  C537966719     2536449.75      2709239.78  C155082523   \n",
       "\n",
       "   oldbalanceDest  newbalanceDest  transactionHour  errorBalanceOriginal  \\\n",
       "0       354195.74       181405.71               14             345580.06   \n",
       "\n",
       "   errorBalanceDestination  \n",
       "0                345580.06  "
      ]
     },
     "execution_count": 45,
     "metadata": {},
     "output_type": "execute_result"
    }
   ],
   "source": [
    "X.head(1)"
   ]
  },
  {
   "cell_type": "code",
   "execution_count": 46,
   "id": "intelligent-exhibit",
   "metadata": {},
   "outputs": [],
   "source": [
    "# Splitting Train Test data\n",
    "from sklearn.model_selection import train_test_split\n",
    "X_train, X_test, y_train, y_test = train_test_split(X, y, test_size=0.20, stratify=y,random_state=1)"
   ]
  },
  {
   "cell_type": "markdown",
   "id": "adjusted-flight",
   "metadata": {},
   "source": [
    "# Type encoding"
   ]
  },
  {
   "cell_type": "code",
   "execution_count": 47,
   "id": "intellectual-lingerie",
   "metadata": {},
   "outputs": [
    {
     "name": "stdout",
     "output_type": "stream",
     "text": [
      "5\n"
     ]
    }
   ],
   "source": [
    "# Knowing unique values in school_state\n",
    "print(len(X_train['type'].unique()))\n"
   ]
  },
  {
   "cell_type": "code",
   "execution_count": 48,
   "id": "different-league",
   "metadata": {},
   "outputs": [
    {
     "data": {
      "text/plain": [
       "(13140,)"
      ]
     },
     "execution_count": 48,
     "metadata": {},
     "output_type": "execute_result"
    }
   ],
   "source": [
    "# Encode the column using label encoding\n",
    "from sklearn.preprocessing import LabelEncoder\n",
    "labelencoder=LabelEncoder()\n",
    "encoded_train_type=labelencoder.fit_transform(X_train['type'])\n",
    "encoded_train_type.shape"
   ]
  },
  {
   "cell_type": "code",
   "execution_count": 49,
   "id": "understood-stream",
   "metadata": {},
   "outputs": [
    {
     "data": {
      "text/plain": [
       "(3286,)"
      ]
     },
     "execution_count": 49,
     "metadata": {},
     "output_type": "execute_result"
    }
   ],
   "source": [
    "# Similarly do for test data \n",
    "encoded_test_type=labelencoder.transform(X_test['type'])\n",
    "encoded_test_type.shape"
   ]
  },
  {
   "cell_type": "markdown",
   "id": "understood-haiti",
   "metadata": {},
   "source": [
    "# Encoding all Numerical Features"
   ]
  },
  {
   "cell_type": "code",
   "execution_count": 50,
   "id": "sustainable-manor",
   "metadata": {},
   "outputs": [],
   "source": [
    "# Train data for  numerical columns\n",
    "X_train_amount = X_train['amount'].values.reshape(-1,1)\n",
    "X_train_oldbalanceOrg = X_train['oldbalanceOrg'].values.reshape(-1,1)\n",
    "X_train_newbalanceOrig = X_train['newbalanceOrig'].values.reshape(-1,1)\n",
    "X_train_oldbalanceDest = X_train['oldbalanceDest'].values.reshape(-1,1)\n",
    "X_train_newbalanceDest = X_train['newbalanceDest'].values.reshape(-1,1)\n",
    "X_train_transactionHour = X_train['transactionHour'].values.reshape(-1,1)\n",
    "X_train_errorBalanceOrig = X_train['errorBalanceOriginal'].values.reshape(-1,1)\n",
    "X_train_errorBalanceDestination = X_train['errorBalanceDestination'].values.reshape(-1,1)\n",
    "\n",
    "# Test data for  numerical columns\n",
    "X_test_amount = X_test['amount'].values.reshape(-1,1)\n",
    "X_test_oldbalanceOrg = X_test['oldbalanceOrg'].values.reshape(-1,1)\n",
    "X_test_newbalanceOrig = X_test['newbalanceOrig'].values.reshape(-1,1)\n",
    "X_test_oldbalanceDest = X_test['oldbalanceDest'].values.reshape(-1,1)\n",
    "X_test_newbalanceDest = X_test['newbalanceDest'].values.reshape(-1,1)\n",
    "X_test_transactionHour = X_test['transactionHour'].values.reshape(-1,1)\n",
    "X_test_errorBalanceOrig = X_test['errorBalanceOriginal'].values.reshape(-1,1)\n",
    "X_test_errorBalanceDestination = X_test['errorBalanceDestination'].values.reshape(-1,1)\n",
    "\n",
    "# Concatenating 2 numerical columns for train and test data\n",
    "numerical_feat_train = np.concatenate((X_train_amount, X_train_oldbalanceOrg,X_train_newbalanceOrig,X_train_oldbalanceDest, X_train_newbalanceDest, X_train_transactionHour, X_train_errorBalanceOrig, X_train_errorBalanceDestination), axis=1) # column wise\n",
    "numerical_feat_test = np.concatenate((X_test_amount, X_test_oldbalanceOrg,X_test_newbalanceOrig, X_test_oldbalanceDest, X_test_newbalanceDest,X_test_transactionHour, X_test_errorBalanceOrig, X_test_errorBalanceDestination ), axis=1) # Column wise\n",
    "\n",
    "from sklearn.preprocessing import Normalizer\n",
    "normalizer = Normalizer()\n",
    "numeric_norm_train = normalizer.fit_transform(numerical_feat_train)\n",
    "numeric_norm_test = normalizer.transform(numerical_feat_test)"
   ]
  },
  {
   "cell_type": "code",
   "execution_count": 51,
   "id": "genuine-correction",
   "metadata": {},
   "outputs": [
    {
     "data": {
      "text/plain": [
       "(13140, 8)"
      ]
     },
     "execution_count": 51,
     "metadata": {},
     "output_type": "execute_result"
    }
   ],
   "source": [
    "numeric_norm_train.shape"
   ]
  },
  {
   "cell_type": "code",
   "execution_count": 52,
   "id": "large-provision",
   "metadata": {},
   "outputs": [],
   "source": [
    "train_type = np.expand_dims(encoded_train_type, axis=1)\n",
    "test_type=np.expand_dims(encoded_test_type, axis=1)"
   ]
  },
  {
   "cell_type": "code",
   "execution_count": 53,
   "id": "fewer-chosen",
   "metadata": {},
   "outputs": [],
   "source": [
    "# Concatenate all features\n",
    "x=np.concatenate((train_type,numeric_norm_train), axis=1)\n",
    "y=np.concatenate((test_type,numeric_norm_test), axis=1)"
   ]
  },
  {
   "cell_type": "code",
   "execution_count": 54,
   "id": "coastal-transmission",
   "metadata": {},
   "outputs": [
    {
     "data": {
      "text/plain": [
       "(3286, 9)"
      ]
     },
     "execution_count": 54,
     "metadata": {},
     "output_type": "execute_result"
    }
   ],
   "source": [
    "y.shape"
   ]
  },
  {
   "cell_type": "code",
   "execution_count": 55,
   "id": "proprietary-animation",
   "metadata": {},
   "outputs": [],
   "source": [
    "from sklearn.model_selection import RandomizedSearchCV\n",
    "from scipy.stats import randint"
   ]
  },
  {
   "cell_type": "code",
   "execution_count": 56,
   "id": "spatial-estimate",
   "metadata": {},
   "outputs": [],
   "source": [
    "def batch_predict(clf, data):\n",
    "    # roc_auc_score(y_true, y_score) the 2nd parameter should be probability estimates of the positive class\n",
    "    # not the predicted outputs\n",
    "\n",
    "    y_data_pred = []\n",
    "    tr_loop = data.shape[0] - data.shape[0]%1000\n",
    "    # consider you X_tr shape is 49041, then your tr_loop will be 49041 - 49041%1000 = 49000\n",
    "    # in this for loop we will iterate unti the last 1000 multiplier\n",
    "    for i in range(0, tr_loop, 1000):\n",
    "        y_data_pred.extend(clf.predict_proba(data[i:i+1000])[:,1])\n",
    "    # we will be predicting for the last data points\n",
    "    if data.shape[0]%1000 !=0:\n",
    "        y_data_pred.extend(clf.predict_proba(data[tr_loop:])[:,1])\n",
    "    \n",
    "    return y_data_pred"
   ]
  },
  {
   "cell_type": "code",
   "execution_count": 57,
   "id": "beginning-remark",
   "metadata": {},
   "outputs": [
    {
     "data": {
      "image/png": "[encoded data removed]",
      "text/plain": [
       "<Figure size 432x288 with 1 Axes>"
      ]
     },
     "metadata": {
      "needs_background": "light"
     },
     "output_type": "display_data"
    }
   ],
   "source": [
    "# https://scikit-learn.org/stable/modules/generated/sklearn.metrics.roc_curve.html#sklearn.metrics.roc_curve\n",
    "from sklearn.metrics import roc_curve, auc\n",
    "# Classifier with parameter\n",
    "from sklearn.ensemble import RandomForestClassifier\n",
    "est1=RandomForestClassifier(n_jobs=-1, bootstrap=False, criterion='gini', max_depth= 8,min_samples_leaf= 5, n_estimators= 100)\n",
    "est1.fit(x, y_train)\n",
    "# roc_auc_score(y_true, y_score) the 2nd parameter should be probability estimates of the positive class\n",
    "# not the predicted outputs\n",
    "\n",
    "y_train_pred = batch_predict(est1, x)    \n",
    "y_test_pred = batch_predict(est1, y)\n",
    "\n",
    "train_fpr, train_tpr, tr_thresholds = roc_curve(y_train, y_train_pred)\n",
    "test_fpr, test_tpr, te_thresholds = roc_curve(y_test, y_test_pred)\n",
    "\n",
    "plt.plot(train_fpr, train_tpr, label=\"train AUC =\"+str(auc(train_fpr, train_tpr)))\n",
    "plt.plot(test_fpr, test_tpr, label=\"test AUC =\"+str(auc(test_fpr, test_tpr)))\n",
    "plt.legend()\n",
    "plt.xlabel(\"False Positive Rate\")\n",
    "plt.ylabel(\"True Positive Rate\")\n",
    "plt.title(\"ERROR PLOTS\")\n",
    "plt.grid()\n",
    "plt.show()"
   ]
  },
  {
   "cell_type": "markdown",
   "id": "genetic-slovak",
   "metadata": {},
   "source": [
    "# Observations:\n",
    "<br><b> Test AUC is 99.96 % meaning an given point the model will predict it correctly as Valid or Invalid Transactions by 99.96% </br></b>"
   ]
  },
  {
   "cell_type": "code",
   "execution_count": 58,
   "id": "virtual-profession",
   "metadata": {},
   "outputs": [
    {
     "data": {
      "text/plain": [
       "0.9990870359099209"
      ]
     },
     "execution_count": 58,
     "metadata": {},
     "output_type": "execute_result"
    }
   ],
   "source": [
    "# Accuracy \n",
    "y_pred=est1.predict(y) # predicting the data on test data points\n",
    "y_pred #\n",
    "from sklearn.metrics import accuracy_score\n",
    "accuracy_score(y_test,y_pred)"
   ]
  },
  {
   "cell_type": "code",
   "execution_count": 59,
   "id": "final-jerusalem",
   "metadata": {},
   "outputs": [
    {
     "name": "stdout",
     "output_type": "stream",
     "text": [
      "Feature: 0, Score: 0.04217\n",
      "Feature: 1, Score: 0.10696\n",
      "Feature: 2, Score: 0.17073\n",
      "Feature: 3, Score: 0.15773\n",
      "Feature: 4, Score: 0.00914\n",
      "Feature: 5, Score: 0.02496\n",
      "Feature: 6, Score: 0.02813\n",
      "Feature: 7, Score: 0.42697\n",
      "Feature: 8, Score: 0.03322\n"
     ]
    }
   ],
   "source": [
    "# Reference: https://machinelearningmastery.com/calculate-feature-importance-with-python/\n",
    "# getting feature importance \n",
    "importance=est1.feature_importances_\n",
    "for i,v in enumerate(importance):\n",
    "    print('Feature: %0d, Score: %.5f'%(i,v))"
   ]
  },
  {
   "cell_type": "markdown",
   "id": "mature-glance",
   "metadata": {},
   "source": [
    "# Observations:\n",
    "<br>X_train_amount , X_train_newbalanceOrig, X_train_newbalanceDest and X_train_errorBalanceOrig are the best features for Model prediction , can use these subset of features for only Model Building and Prediction and see the results</br>"
   ]
  },
  {
   "cell_type": "code",
   "execution_count": 60,
   "id": "nasty-think",
   "metadata": {},
   "outputs": [
    {
     "data": {
      "image/png": "[encoded data removed]",
      "text/plain": [
       "<Figure size 432x288 with 2 Axes>"
      ]
     },
     "metadata": {
      "needs_background": "light"
     },
     "output_type": "display_data"
    },
    {
     "data": {
      "text/plain": [
       "array([[1643,    0],\n",
       "       [   3, 1640]], dtype=int64)"
      ]
     },
     "execution_count": 60,
     "metadata": {},
     "output_type": "execute_result"
    }
   ],
   "source": [
    "from sklearn.metrics import confusion_matrix\n",
    "cm1=confusion_matrix(y_test,y_pred)\n",
    "sns.heatmap(cm1,annot=True)\n",
    "plt.show(ax)\n",
    "cm1"
   ]
  },
  {
   "cell_type": "markdown",
   "id": "stock-black",
   "metadata": {},
   "source": [
    "# Observations:\n",
    "<br> Model is making very few errors in predicting Valid Transactions as Invalid Transactions while only 1 error in Predicting Invalid Transactions as Valid Transactions which is very good </br>"
   ]
  },
  {
   "cell_type": "markdown",
   "id": "illegal-globe",
   "metadata": {},
   "source": [
    "# Decision Tree"
   ]
  },
  {
   "cell_type": "code",
   "execution_count": 194,
   "id": "sustained-internship",
   "metadata": {},
   "outputs": [],
   "source": [
    "# Trying the Hyperparameter Tuning for Decision Tree\n",
    "# Decision Tree\n",
    "from sklearn.tree import DecisionTreeClassifier\n",
    "dtc=DecisionTreeClassifier()\n",
    "random_grid_dt={'max_depth':[2,4,6,8,12,15,25,50,75],\n",
    "                'splitter':['best', 'random'],\n",
    "             'criterion':['gini','entropy']\n",
    "             }"
   ]
  },
  {
   "cell_type": "code",
   "execution_count": 195,
   "id": "induced-accommodation",
   "metadata": {},
   "outputs": [],
   "source": [
    "# Creating a function \n",
    "def hypertuning_dtcv(est,random_grid,nbr_iter,X,y):\n",
    "    dtsearch=RandomizedSearchCV(est,param_distributions=random_grid,n_jobs=-1,n_iter=nbr_iter,cv=3,return_train_score=True) # kfold cv=5 \n",
    "    dtsearch.fit(x,y_train)  # Fitting the RandomizedSearchCV on data\n",
    "    ht_params=dtsearch.best_params_ # Getting best parameters \n",
    "    ht_score=dtsearch.best_score_ # Getting Score of randomziedSearchCV\n",
    "    results_dt=pd.DataFrame(dtsearch.cv_results_)\n",
    "    return ht_params,ht_score,results_dt"
   ]
  },
  {
   "cell_type": "code",
   "execution_count": 196,
   "id": "essential-racing",
   "metadata": {},
   "outputs": [],
   "source": [
    "dt_parameters, dt_ht_score,results_dt=hypertuning_dtcv(dtc,random_grid_dt,3,x,y_train) # 3 possible random combinations(options) to selected "
   ]
  },
  {
   "cell_type": "code",
   "execution_count": 197,
   "id": "illegal-mercury",
   "metadata": {},
   "outputs": [
    {
     "data": {
      "text/html": [
       "<div>\n",
       "<style scoped>\n",
       "    .dataframe tbody tr th:only-of-type {\n",
       "        vertical-align: middle;\n",
       "    }\n",
       "\n",
       "    .dataframe tbody tr th {\n",
       "        vertical-align: top;\n",
       "    }\n",
       "\n",
       "    .dataframe thead th {\n",
       "        text-align: right;\n",
       "    }\n",
       "</style>\n",
       "<table border=\"1\" class=\"dataframe\">\n",
       "  <thead>\n",
       "    <tr style=\"text-align: right;\">\n",
       "      <th></th>\n",
       "      <th>param_splitter</th>\n",
       "      <th>param_max_depth</th>\n",
       "      <th>param_criterion</th>\n",
       "      <th>mean_test_score</th>\n",
       "      <th>mean_train_score</th>\n",
       "    </tr>\n",
       "  </thead>\n",
       "  <tbody>\n",
       "    <tr>\n",
       "      <th>0</th>\n",
       "      <td>random</td>\n",
       "      <td>50</td>\n",
       "      <td>entropy</td>\n",
       "      <td>0.999978</td>\n",
       "      <td>0.999999</td>\n",
       "    </tr>\n",
       "    <tr>\n",
       "      <th>1</th>\n",
       "      <td>best</td>\n",
       "      <td>12</td>\n",
       "      <td>entropy</td>\n",
       "      <td>0.999992</td>\n",
       "      <td>0.999999</td>\n",
       "    </tr>\n",
       "    <tr>\n",
       "      <th>2</th>\n",
       "      <td>random</td>\n",
       "      <td>15</td>\n",
       "      <td>gini</td>\n",
       "      <td>0.999750</td>\n",
       "      <td>0.999761</td>\n",
       "    </tr>\n",
       "  </tbody>\n",
       "</table>\n",
       "</div>"
      ],
      "text/plain": [
       "  param_splitter param_max_depth param_criterion  mean_test_score  \\\n",
       "0         random              50         entropy         0.999978   \n",
       "1           best              12         entropy         0.999992   \n",
       "2         random              15            gini         0.999750   \n",
       "\n",
       "   mean_train_score  \n",
       "0          0.999999  \n",
       "1          0.999999  \n",
       "2          0.999761  "
      ]
     },
     "execution_count": 197,
     "metadata": {},
     "output_type": "execute_result"
    }
   ],
   "source": [
    "results_dt[['param_splitter','param_max_depth','param_criterion','mean_test_score','mean_train_score']]"
   ]
  },
  {
   "cell_type": "code",
   "execution_count": 198,
   "id": "tender-volleyball",
   "metadata": {},
   "outputs": [
    {
     "data": {
      "text/plain": [
       "{'splitter': 'best', 'max_depth': 12, 'criterion': 'entropy'}"
      ]
     },
     "execution_count": 198,
     "metadata": {},
     "output_type": "execute_result"
    }
   ],
   "source": [
    "dt_parameters"
   ]
  },
  {
   "cell_type": "code",
   "execution_count": 200,
   "id": "thorough-truck",
   "metadata": {},
   "outputs": [
    {
     "data": {
      "image/png": "[encoded data removed]",
      "text/plain": [
       "<Figure size 432x288 with 1 Axes>"
      ]
     },
     "metadata": {
      "needs_background": "light"
     },
     "output_type": "display_data"
    }
   ],
   "source": [
    "# https://scikit-learn.org/stable/modules/generated/sklearn.metrics.roc_curve.html#sklearn.metrics.roc_curve\n",
    "from sklearn.metrics import roc_curve, auc\n",
    "# Classifier with parameter\n",
    "dtc1=DecisionTreeClassifier(criterion='entropy', max_depth= 12,splitter='best')\n",
    "dtc1.fit(x, y_train)\n",
    "# roc_auc_score(y_true, y_score) the 2nd parameter should be probability estimates of the positive class\n",
    "# not the predicted outputs\n",
    "\n",
    "y_train_pred = batch_predict(dtc1, x)    \n",
    "y_test_pred = batch_predict(dtc1, y)\n",
    "\n",
    "train_fpr, train_tpr, tr_thresholds = roc_curve(y_train, y_train_pred)\n",
    "test_fpr, test_tpr, te_thresholds = roc_curve(y_test, y_test_pred)\n",
    "\n",
    "plt.plot(train_fpr, train_tpr, label=\"train AUC =\"+str(auc(train_fpr, train_tpr)))\n",
    "plt.plot(test_fpr, test_tpr, label=\"test AUC =\"+str(auc(test_fpr, test_tpr)))\n",
    "plt.legend()\n",
    "plt.xlabel(\"False Positive Rate\")\n",
    "plt.ylabel(\"True Positive Rate\")\n",
    "plt.title(\"ERROR PLOTS\")\n",
    "plt.grid()\n",
    "plt.show()"
   ]
  },
  {
   "cell_type": "markdown",
   "id": "nearby-freedom",
   "metadata": {},
   "source": [
    "# observations:\n",
    "<br><b> Test AUC score is 99.79% i.e. Given a point it will be 99.79% correctly predicted as Valid or invalid transactions </br></b>"
   ]
  },
  {
   "cell_type": "code",
   "execution_count": 201,
   "id": "particular-charlotte",
   "metadata": {},
   "outputs": [
    {
     "data": {
      "text/plain": [
       "0.9999921416020444"
      ]
     },
     "execution_count": 201,
     "metadata": {},
     "output_type": "execute_result"
    }
   ],
   "source": [
    "# Accuracy \n",
    "y_pred=dtc1.predict(y) # predicting the data on test data points\n",
    "y_pred \n",
    "from sklearn.metrics import accuracy_score\n",
    "accuracy_score(y_test,y_pred)"
   ]
  },
  {
   "cell_type": "code",
   "execution_count": 203,
   "id": "about-computer",
   "metadata": {},
   "outputs": [
    {
     "data": {
      "image/png": "[encoded data removed]",
      "text/plain": [
       "<Figure size 432x288 with 2 Axes>"
      ]
     },
     "metadata": {
      "needs_background": "light"
     },
     "output_type": "display_data"
    },
    {
     "data": {
      "text/plain": [
       "array([[1270877,       4],\n",
       "       [      6,    1637]], dtype=int64)"
      ]
     },
     "execution_count": 203,
     "metadata": {},
     "output_type": "execute_result"
    }
   ],
   "source": [
    "from sklearn.metrics import confusion_matrix\n",
    "cm=confusion_matrix(y_test,y_pred)\n",
    "sns.heatmap(cm,annot=True)\n",
    "plt.show(ax)\n",
    "cm"
   ]
  },
  {
   "cell_type": "markdown",
   "id": "exempt-candle",
   "metadata": {},
   "source": [
    "# Observations:\n",
    "<br><b>Model is performing well making very few errors when Actual label is 1(Invalid Transaction) while prediction is 0(Valid Transaction)</br></b>\n",
    "<br><b>Model making very few errors when actual label is 0(Valid Transaction) but prediction is 1 i.e. Invalid Transaction</br></b>"
   ]
  },
  {
   "cell_type": "code",
   "execution_count": 204,
   "id": "developmental-texture",
   "metadata": {},
   "outputs": [
    {
     "name": "stdout",
     "output_type": "stream",
     "text": [
      "Feature: 0, Score: 0.00999\n",
      "Feature: 1, Score: 0.00014\n",
      "Feature: 2, Score: 0.00100\n",
      "Feature: 3, Score: 0.76990\n",
      "Feature: 4, Score: 0.00053\n",
      "Feature: 5, Score: 0.01193\n",
      "Feature: 6, Score: 0.00418\n",
      "Feature: 7, Score: 0.20150\n",
      "Feature: 8, Score: 0.00083\n"
     ]
    }
   ],
   "source": [
    "# Reference: https://machinelearningmastery.com/calculate-feature-importance-with-python/\n",
    "# getting feature importance \n",
    "importance=dtc1.feature_importances_\n",
    "for i,v in enumerate(importance):\n",
    "    print('Feature: %0d, Score: %.5f'%(i,v))"
   ]
  },
  {
   "cell_type": "markdown",
   "id": "pleased-occasions",
   "metadata": {},
   "source": [
    "# Observations:\n",
    "<br> X_train_newbalanceOrig and X_train_errorBalanceOrig are two most important features for Decision Tree Model </br>\n",
    "<br> Can use these subsets of features only for model building and gettting prediction results later instead of using all features </br>"
   ]
  },
  {
   "cell_type": "code",
   "execution_count": 59,
   "id": "linear-wrapping",
   "metadata": {},
   "outputs": [],
   "source": [
    "### XgBosst Classifier\n",
    "import xgboost as xg\n",
    "xgb_r = xg.XGBClassifier()"
   ]
  },
  {
   "cell_type": "code",
   "execution_count": 61,
   "id": "verbal-weekend",
   "metadata": {},
   "outputs": [
    {
     "data": {
      "text/plain": [
       "0.9981740718198417"
      ]
     },
     "execution_count": 61,
     "metadata": {},
     "output_type": "execute_result"
    }
   ],
   "source": [
    "xgb_r.fit(x,y_train)\n",
    "# predict\n",
    "y_pred_xg=xgb_r.predict(y)\n",
    "from sklearn.metrics import accuracy_score\n",
    "accuracy_score(y_test,y_pred_xg)"
   ]
  },
  {
   "cell_type": "markdown",
   "id": "pointed-destiny",
   "metadata": {},
   "source": [
    "# Observations: Accuracy is 99.81% "
   ]
  },
  {
   "cell_type": "code",
   "execution_count": 74,
   "id": "alpine-tolerance",
   "metadata": {},
   "outputs": [],
   "source": [
    "# Hyperparameter Tuning for XgBoost "
   ]
  },
  {
   "cell_type": "code",
   "execution_count": 75,
   "id": "flying-candidate",
   "metadata": {},
   "outputs": [],
   "source": [
    "# Trying the Hyperparameter Tuning for Logistic Regression\n",
    "xgb=xg.XGBClassifier()\n",
    "random_grid_1={'max_depth': [2,5,7,9,10,12,14,15,18,20,25,30,35,50,70,100],\n",
    "    'reg_alpha':[0.00001,0.0001,0.001,0.01,0.1,0.5],\n",
    "    'subsample': [0.001,0.1,0.3,0.6,0.8,1],\n",
    "    'colsample_bytree': [0.1,0.3,0.5,0.7,1],\n",
    "    'gamma': [0.0001,0.001,0.01,0.1,0.3,0.6,0.8],\n",
    "    'n_estimators':[10,20,25,30,40,50,70,85,100,120,150,200]\n",
    "             }"
   ]
  },
  {
   "cell_type": "code",
   "execution_count": 102,
   "id": "mechanical-shadow",
   "metadata": {},
   "outputs": [],
   "source": [
    "# Creating a function \n",
    "from sklearn.model_selection import RandomizedSearchCV\n",
    "def hypertuning_lrcv(xgb,random_grid_1,nbr_iter,X,y):\n",
    "    xgbsearch=RandomizedSearchCV(xgb,param_distributions=random_grid_1,n_jobs=-1,n_iter=nbr_iter,cv=5,return_train_score=True)\n",
    "    xgbsearch.fit(x,y_train)  # Fitting the RandomizedSearchCV on data\n",
    "    ht_params=xgbsearch.best_params_ # Getting best parameters \n",
    "    ht_score=xgbsearch.best_score_ # Getting Score of randomziedSearchCV\n",
    "    results_lr=pd.DataFrame(xgbsearch.cv_results_)\n",
    "    return ht_params,ht_score,results_lr"
   ]
  },
  {
   "cell_type": "code",
   "execution_count": 77,
   "id": "universal-logic",
   "metadata": {},
   "outputs": [],
   "source": [
    "lr_parameters, lr_ht_score,results_lr=hypertuning_lrcv(xgb,random_grid_1,10,x,y_train)"
   ]
  },
  {
   "cell_type": "code",
   "execution_count": 78,
   "id": "ranging-demonstration",
   "metadata": {},
   "outputs": [
    {
     "data": {
      "text/html": [
       "<div>\n",
       "<style scoped>\n",
       "    .dataframe tbody tr th:only-of-type {\n",
       "        vertical-align: middle;\n",
       "    }\n",
       "\n",
       "    .dataframe tbody tr th {\n",
       "        vertical-align: top;\n",
       "    }\n",
       "\n",
       "    .dataframe thead th {\n",
       "        text-align: right;\n",
       "    }\n",
       "</style>\n",
       "<table border=\"1\" class=\"dataframe\">\n",
       "  <thead>\n",
       "    <tr style=\"text-align: right;\">\n",
       "      <th></th>\n",
       "      <th>param_max_depth</th>\n",
       "      <th>param_reg_alpha</th>\n",
       "      <th>param_subsample</th>\n",
       "      <th>mean_train_score</th>\n",
       "      <th>mean_test_score</th>\n",
       "    </tr>\n",
       "  </thead>\n",
       "  <tbody>\n",
       "    <tr>\n",
       "      <th>0</th>\n",
       "      <td>12</td>\n",
       "      <td>0.00001</td>\n",
       "      <td>0.3</td>\n",
       "      <td>0.998992</td>\n",
       "      <td>0.998326</td>\n",
       "    </tr>\n",
       "    <tr>\n",
       "      <th>1</th>\n",
       "      <td>50</td>\n",
       "      <td>0.01</td>\n",
       "      <td>0.001</td>\n",
       "      <td>0.929281</td>\n",
       "      <td>0.930746</td>\n",
       "    </tr>\n",
       "    <tr>\n",
       "      <th>2</th>\n",
       "      <td>7</td>\n",
       "      <td>0.5</td>\n",
       "      <td>0.001</td>\n",
       "      <td>0.890183</td>\n",
       "      <td>0.890868</td>\n",
       "    </tr>\n",
       "    <tr>\n",
       "      <th>3</th>\n",
       "      <td>14</td>\n",
       "      <td>0.00001</td>\n",
       "      <td>0.8</td>\n",
       "      <td>0.997622</td>\n",
       "      <td>0.989117</td>\n",
       "    </tr>\n",
       "    <tr>\n",
       "      <th>4</th>\n",
       "      <td>15</td>\n",
       "      <td>0.0001</td>\n",
       "      <td>0.001</td>\n",
       "      <td>0.963775</td>\n",
       "      <td>0.965221</td>\n",
       "    </tr>\n",
       "    <tr>\n",
       "      <th>5</th>\n",
       "      <td>15</td>\n",
       "      <td>0.01</td>\n",
       "      <td>0.001</td>\n",
       "      <td>0.777892</td>\n",
       "      <td>0.778843</td>\n",
       "    </tr>\n",
       "    <tr>\n",
       "      <th>6</th>\n",
       "      <td>7</td>\n",
       "      <td>0.5</td>\n",
       "      <td>0.6</td>\n",
       "      <td>0.998402</td>\n",
       "      <td>0.996043</td>\n",
       "    </tr>\n",
       "    <tr>\n",
       "      <th>7</th>\n",
       "      <td>15</td>\n",
       "      <td>0.1</td>\n",
       "      <td>0.6</td>\n",
       "      <td>0.999943</td>\n",
       "      <td>0.998174</td>\n",
       "    </tr>\n",
       "    <tr>\n",
       "      <th>8</th>\n",
       "      <td>18</td>\n",
       "      <td>0.1</td>\n",
       "      <td>0.6</td>\n",
       "      <td>0.999049</td>\n",
       "      <td>0.998250</td>\n",
       "    </tr>\n",
       "    <tr>\n",
       "      <th>9</th>\n",
       "      <td>12</td>\n",
       "      <td>0.001</td>\n",
       "      <td>0.1</td>\n",
       "      <td>0.997146</td>\n",
       "      <td>0.996195</td>\n",
       "    </tr>\n",
       "  </tbody>\n",
       "</table>\n",
       "</div>"
      ],
      "text/plain": [
       "  param_max_depth param_reg_alpha param_subsample  mean_train_score  \\\n",
       "0              12         0.00001             0.3          0.998992   \n",
       "1              50            0.01           0.001          0.929281   \n",
       "2               7             0.5           0.001          0.890183   \n",
       "3              14         0.00001             0.8          0.997622   \n",
       "4              15          0.0001           0.001          0.963775   \n",
       "5              15            0.01           0.001          0.777892   \n",
       "6               7             0.5             0.6          0.998402   \n",
       "7              15             0.1             0.6          0.999943   \n",
       "8              18             0.1             0.6          0.999049   \n",
       "9              12           0.001             0.1          0.997146   \n",
       "\n",
       "   mean_test_score  \n",
       "0         0.998326  \n",
       "1         0.930746  \n",
       "2         0.890868  \n",
       "3         0.989117  \n",
       "4         0.965221  \n",
       "5         0.778843  \n",
       "6         0.996043  \n",
       "7         0.998174  \n",
       "8         0.998250  \n",
       "9         0.996195  "
      ]
     },
     "execution_count": 78,
     "metadata": {},
     "output_type": "execute_result"
    }
   ],
   "source": [
    "results_lr[['param_max_depth','param_reg_alpha','param_subsample','mean_train_score','mean_test_score']]"
   ]
  },
  {
   "cell_type": "code",
   "execution_count": 79,
   "id": "falling-leone",
   "metadata": {},
   "outputs": [
    {
     "data": {
      "text/plain": [
       "{'subsample': 0.3,\n",
       " 'reg_alpha': 1e-05,\n",
       " 'n_estimators': 150,\n",
       " 'max_depth': 12,\n",
       " 'gamma': 0.3,\n",
       " 'colsample_bytree': 0.3}"
      ]
     },
     "execution_count": 79,
     "metadata": {},
     "output_type": "execute_result"
    }
   ],
   "source": [
    "lr_parameters"
   ]
  },
  {
   "cell_type": "code",
   "execution_count": 80,
   "id": "nearby-burlington",
   "metadata": {},
   "outputs": [],
   "source": [
    "classifier_xgb=xg.XGBClassifier(subsample= 0.3,reg_alpha= 0.00001,max_depth=12,colsample_bytree=0.3, gamma=0.3,n_estimators=150).fit(x,y_train)"
   ]
  },
  {
   "cell_type": "code",
   "execution_count": 81,
   "id": "subjective-status",
   "metadata": {},
   "outputs": [],
   "source": [
    "y_pred3=classifier_xgb.predict(y)"
   ]
  },
  {
   "cell_type": "code",
   "execution_count": 82,
   "id": "second-teach",
   "metadata": {},
   "outputs": [
    {
     "data": {
      "text/plain": [
       "0.9981740718198417"
      ]
     },
     "execution_count": 82,
     "metadata": {},
     "output_type": "execute_result"
    }
   ],
   "source": [
    "from sklearn.metrics import accuracy_score\n",
    "accuracy_score(y_test,y_pred3)"
   ]
  },
  {
   "cell_type": "markdown",
   "id": "opposite-pointer",
   "metadata": {},
   "source": [
    "# Accuracy is 99.82%"
   ]
  },
  {
   "cell_type": "code",
   "execution_count": 84,
   "id": "becoming-landing",
   "metadata": {},
   "outputs": [
    {
     "data": {
      "image/png": "[encoded data removed]",
      "text/plain": [
       "<Figure size 432x288 with 1 Axes>"
      ]
     },
     "metadata": {
      "needs_background": "light"
     },
     "output_type": "display_data"
    }
   ],
   "source": [
    "# https://scikit-learn.org/stable/modules/generated/sklearn.metrics.roc_curve.html#sklearn.metrics.roc_curve\n",
    "from sklearn.metrics import roc_curve, auc\n",
    "# Classifier with parameter\n",
    "classifier_xgb=xg.XGBClassifier(subsample= 0.3,reg_alpha= 0.00001,max_depth=12,colsample_bytree=0.3, gamma=0.3,n_estimators=150)\n",
    "classifier_xgb.fit(x, y_train)\n",
    "# roc_auc_score(y_true, y_score) the 2nd parameter should be probability estimates of the positive class\n",
    "# not the predicted outputs\n",
    "\n",
    "y_train_pred = batch_predict(classifier_xgb, x)    \n",
    "y_test_pred = batch_predict(classifier_xgb, y)\n",
    "\n",
    "train_fpr, train_tpr, tr_thresholds = roc_curve(y_train, y_train_pred)\n",
    "test_fpr, test_tpr, te_thresholds = roc_curve(y_test, y_test_pred)\n",
    "\n",
    "plt.plot(train_fpr, train_tpr, label=\"train AUC =\"+str(auc(train_fpr, train_tpr)))\n",
    "plt.plot(test_fpr, test_tpr, label=\"test AUC =\"+str(auc(test_fpr, test_tpr)))\n",
    "plt.legend()\n",
    "plt.xlabel(\"False Positive Rate\")\n",
    "plt.ylabel(\"True Positive Rate\")\n",
    "plt.title(\"ERROR PLOTS\")\n",
    "plt.grid()\n",
    "plt.show()"
   ]
  },
  {
   "cell_type": "markdown",
   "id": "continental-prayer",
   "metadata": {},
   "source": [
    "# AUC Score is 99.96%"
   ]
  },
  {
   "cell_type": "code",
   "execution_count": 85,
   "id": "peaceful-width",
   "metadata": {},
   "outputs": [
    {
     "data": {
      "text/plain": [
       "array([[1642,    1],\n",
       "       [   5, 1638]], dtype=int64)"
      ]
     },
     "execution_count": 85,
     "metadata": {},
     "output_type": "execute_result"
    }
   ],
   "source": [
    "# confusion matrix\n",
    "from sklearn.metrics import confusion_matrix\n",
    "cm=confusion_matrix(y_test,y_pred3)\n",
    "cm"
   ]
  },
  {
   "cell_type": "markdown",
   "id": "communist-collins",
   "metadata": {},
   "source": [
    "# Logistic Regression"
   ]
  },
  {
   "cell_type": "code",
   "execution_count": 73,
   "id": "infrared-battery",
   "metadata": {},
   "outputs": [],
   "source": [
    "X=data[['type','amount','oldbalanceOrg','newbalanceOrig','oldbalanceDest','newbalanceDest','transactionHour','errorBalanceOriginal','errorBalanceDestination']]\n",
    "y=data['isFraud'].values"
   ]
  },
  {
   "cell_type": "code",
   "execution_count": 74,
   "id": "corrected-growth",
   "metadata": {},
   "outputs": [],
   "source": [
    "# Splitting Train Test data\n",
    "from sklearn.model_selection import train_test_split\n",
    "X_train, X_test, y_train, y_test = train_test_split(X, y, test_size=0.20, stratify=y,random_state=1)"
   ]
  },
  {
   "cell_type": "code",
   "execution_count": 77,
   "id": "finnish-pickup",
   "metadata": {},
   "outputs": [
    {
     "name": "stdout",
     "output_type": "stream",
     "text": [
      "(13140, 5)\n",
      "<class 'numpy.ndarray'>\n",
      "(3286, 5)\n"
     ]
    }
   ],
   "source": [
    "from sklearn.preprocessing import OneHotEncoder\n",
    "train1 = pd.DataFrame(X_train['type'])\n",
    "test1 = pd.DataFrame(X_test['type'])\n",
    "enc = OneHotEncoder(handle_unknown = 'ignore')\n",
    "encode_train_type=enc.fit_transform(train1).toarray()\n",
    "print(encode_train_type.shape)\n",
    "print(type(encode_train_type))\n",
    "encode_test_type=enc.transform(test1).toarray()\n",
    "print(encode_test_type.shape)"
   ]
  },
  {
   "cell_type": "code",
   "execution_count": 78,
   "id": "coordinated-magic",
   "metadata": {},
   "outputs": [
    {
     "name": "stderr",
     "output_type": "stream",
     "text": [
      "C:\\Users\\shwer\\AppData\\Local\\Continuum\\anaconda3\\lib\\site-packages\\pandas\\core\\frame.py:4312: SettingWithCopyWarning: \n",
      "A value is trying to be set on a copy of a slice from a DataFrame\n",
      "\n",
      "See the caveats in the documentation: https://pandas.pydata.org/pandas-docs/stable/user_guide/indexing.html#returning-a-view-versus-a-copy\n",
      "  errors=errors,\n"
     ]
    }
   ],
   "source": [
    "X_train.drop(X_train.columns[[0]], axis=1, inplace=True)\n",
    "X_test.drop(X_test.columns[[0]], axis=1, inplace=True)"
   ]
  },
  {
   "cell_type": "code",
   "execution_count": 80,
   "id": "ceramic-reaction",
   "metadata": {},
   "outputs": [
    {
     "data": {
      "text/html": [
       "<div>\n",
       "<style scoped>\n",
       "    .dataframe tbody tr th:only-of-type {\n",
       "        vertical-align: middle;\n",
       "    }\n",
       "\n",
       "    .dataframe tbody tr th {\n",
       "        vertical-align: top;\n",
       "    }\n",
       "\n",
       "    .dataframe thead th {\n",
       "        text-align: right;\n",
       "    }\n",
       "</style>\n",
       "<table border=\"1\" class=\"dataframe\">\n",
       "  <thead>\n",
       "    <tr style=\"text-align: right;\">\n",
       "      <th></th>\n",
       "      <th>amount</th>\n",
       "      <th>oldbalanceOrg</th>\n",
       "      <th>newbalanceOrig</th>\n",
       "      <th>oldbalanceDest</th>\n",
       "      <th>newbalanceDest</th>\n",
       "      <th>transactionHour</th>\n",
       "      <th>errorBalanceOriginal</th>\n",
       "      <th>errorBalanceDestination</th>\n",
       "    </tr>\n",
       "  </thead>\n",
       "  <tbody>\n",
       "    <tr>\n",
       "      <th>3572</th>\n",
       "      <td>81737.98</td>\n",
       "      <td>16038.00</td>\n",
       "      <td>0.00</td>\n",
       "      <td>389456.70</td>\n",
       "      <td>471194.69</td>\n",
       "      <td>18</td>\n",
       "      <td>6.569998e+04</td>\n",
       "      <td>-0.01</td>\n",
       "    </tr>\n",
       "    <tr>\n",
       "      <th>873</th>\n",
       "      <td>7859.03</td>\n",
       "      <td>1711482.99</td>\n",
       "      <td>1719342.02</td>\n",
       "      <td>1540144.76</td>\n",
       "      <td>1532285.73</td>\n",
       "      <td>21</td>\n",
       "      <td>1.571806e+04</td>\n",
       "      <td>15718.06</td>\n",
       "    </tr>\n",
       "    <tr>\n",
       "      <th>2758</th>\n",
       "      <td>409968.35</td>\n",
       "      <td>0.00</td>\n",
       "      <td>0.00</td>\n",
       "      <td>2119118.87</td>\n",
       "      <td>2529087.22</td>\n",
       "      <td>9</td>\n",
       "      <td>4.099683e+05</td>\n",
       "      <td>0.00</td>\n",
       "    </tr>\n",
       "    <tr>\n",
       "      <th>8062</th>\n",
       "      <td>390275.11</td>\n",
       "      <td>1762005.17</td>\n",
       "      <td>2152280.28</td>\n",
       "      <td>1299655.42</td>\n",
       "      <td>909380.31</td>\n",
       "      <td>17</td>\n",
       "      <td>7.805502e+05</td>\n",
       "      <td>780550.22</td>\n",
       "    </tr>\n",
       "    <tr>\n",
       "      <th>4978</th>\n",
       "      <td>97888.54</td>\n",
       "      <td>107576.00</td>\n",
       "      <td>9687.46</td>\n",
       "      <td>0.00</td>\n",
       "      <td>97888.54</td>\n",
       "      <td>14</td>\n",
       "      <td>-7.275958e-12</td>\n",
       "      <td>0.00</td>\n",
       "    </tr>\n",
       "    <tr>\n",
       "      <th>...</th>\n",
       "      <td>...</td>\n",
       "      <td>...</td>\n",
       "      <td>...</td>\n",
       "      <td>...</td>\n",
       "      <td>...</td>\n",
       "      <td>...</td>\n",
       "      <td>...</td>\n",
       "      <td>...</td>\n",
       "    </tr>\n",
       "    <tr>\n",
       "      <th>8148</th>\n",
       "      <td>21890.64</td>\n",
       "      <td>104414.78</td>\n",
       "      <td>82524.14</td>\n",
       "      <td>0.00</td>\n",
       "      <td>0.00</td>\n",
       "      <td>13</td>\n",
       "      <td>0.000000e+00</td>\n",
       "      <td>21890.64</td>\n",
       "    </tr>\n",
       "    <tr>\n",
       "      <th>8014</th>\n",
       "      <td>2070814.27</td>\n",
       "      <td>2070814.27</td>\n",
       "      <td>0.00</td>\n",
       "      <td>0.00</td>\n",
       "      <td>0.00</td>\n",
       "      <td>15</td>\n",
       "      <td>0.000000e+00</td>\n",
       "      <td>2070814.27</td>\n",
       "    </tr>\n",
       "    <tr>\n",
       "      <th>4713</th>\n",
       "      <td>156004.87</td>\n",
       "      <td>195601.06</td>\n",
       "      <td>39596.19</td>\n",
       "      <td>573503.64</td>\n",
       "      <td>729508.51</td>\n",
       "      <td>15</td>\n",
       "      <td>0.000000e+00</td>\n",
       "      <td>0.00</td>\n",
       "    </tr>\n",
       "    <tr>\n",
       "      <th>5663</th>\n",
       "      <td>88909.04</td>\n",
       "      <td>22038.00</td>\n",
       "      <td>0.00</td>\n",
       "      <td>0.00</td>\n",
       "      <td>88909.04</td>\n",
       "      <td>20</td>\n",
       "      <td>6.687104e+04</td>\n",
       "      <td>0.00</td>\n",
       "    </tr>\n",
       "    <tr>\n",
       "      <th>519</th>\n",
       "      <td>151.59</td>\n",
       "      <td>6090.00</td>\n",
       "      <td>5938.41</td>\n",
       "      <td>0.00</td>\n",
       "      <td>0.00</td>\n",
       "      <td>23</td>\n",
       "      <td>0.000000e+00</td>\n",
       "      <td>151.59</td>\n",
       "    </tr>\n",
       "  </tbody>\n",
       "</table>\n",
       "<p>3286 rows × 8 columns</p>\n",
       "</div>"
      ],
      "text/plain": [
       "          amount  oldbalanceOrg  newbalanceOrig  oldbalanceDest  \\\n",
       "3572    81737.98       16038.00            0.00       389456.70   \n",
       "873      7859.03     1711482.99      1719342.02      1540144.76   \n",
       "2758   409968.35           0.00            0.00      2119118.87   \n",
       "8062   390275.11     1762005.17      2152280.28      1299655.42   \n",
       "4978    97888.54      107576.00         9687.46            0.00   \n",
       "...          ...            ...             ...             ...   \n",
       "8148    21890.64      104414.78        82524.14            0.00   \n",
       "8014  2070814.27     2070814.27            0.00            0.00   \n",
       "4713   156004.87      195601.06        39596.19       573503.64   \n",
       "5663    88909.04       22038.00            0.00            0.00   \n",
       "519       151.59        6090.00         5938.41            0.00   \n",
       "\n",
       "      newbalanceDest  transactionHour  errorBalanceOriginal  \\\n",
       "3572       471194.69               18          6.569998e+04   \n",
       "873       1532285.73               21          1.571806e+04   \n",
       "2758      2529087.22                9          4.099683e+05   \n",
       "8062       909380.31               17          7.805502e+05   \n",
       "4978        97888.54               14         -7.275958e-12   \n",
       "...              ...              ...                   ...   \n",
       "8148            0.00               13          0.000000e+00   \n",
       "8014            0.00               15          0.000000e+00   \n",
       "4713       729508.51               15          0.000000e+00   \n",
       "5663        88909.04               20          6.687104e+04   \n",
       "519             0.00               23          0.000000e+00   \n",
       "\n",
       "      errorBalanceDestination  \n",
       "3572                    -0.01  \n",
       "873                  15718.06  \n",
       "2758                     0.00  \n",
       "8062                780550.22  \n",
       "4978                     0.00  \n",
       "...                       ...  \n",
       "8148                 21890.64  \n",
       "8014               2070814.27  \n",
       "4713                     0.00  \n",
       "5663                     0.00  \n",
       "519                    151.59  \n",
       "\n",
       "[3286 rows x 8 columns]"
      ]
     },
     "execution_count": 80,
     "metadata": {},
     "output_type": "execute_result"
    }
   ],
   "source": [
    "X_test"
   ]
  },
  {
   "cell_type": "code",
   "execution_count": 88,
   "id": "suspected-escape",
   "metadata": {},
   "outputs": [
    {
     "data": {
      "text/html": [
       "<div>\n",
       "<style scoped>\n",
       "    .dataframe tbody tr th:only-of-type {\n",
       "        vertical-align: middle;\n",
       "    }\n",
       "\n",
       "    .dataframe tbody tr th {\n",
       "        vertical-align: top;\n",
       "    }\n",
       "\n",
       "    .dataframe thead th {\n",
       "        text-align: right;\n",
       "    }\n",
       "</style>\n",
       "<table border=\"1\" class=\"dataframe\">\n",
       "  <thead>\n",
       "    <tr style=\"text-align: right;\">\n",
       "      <th></th>\n",
       "      <th>amount</th>\n",
       "      <th>oldbalanceOrg</th>\n",
       "      <th>newbalanceOrig</th>\n",
       "      <th>oldbalanceDest</th>\n",
       "      <th>newbalanceDest</th>\n",
       "      <th>transactionHour</th>\n",
       "      <th>errorBalanceOriginal</th>\n",
       "      <th>errorBalanceDestination</th>\n",
       "    </tr>\n",
       "  </thead>\n",
       "  <tbody>\n",
       "    <tr>\n",
       "      <th>3854</th>\n",
       "      <td>-0.439825</td>\n",
       "      <td>-0.376815</td>\n",
       "      <td>-0.204258</td>\n",
       "      <td>-0.328073</td>\n",
       "      <td>-0.413285</td>\n",
       "      <td>-0.242548</td>\n",
       "      <td>-0.207729</td>\n",
       "      <td>-0.273865</td>\n",
       "    </tr>\n",
       "    <tr>\n",
       "      <th>3880</th>\n",
       "      <td>-0.391447</td>\n",
       "      <td>-0.354656</td>\n",
       "      <td>-0.211602</td>\n",
       "      <td>-0.189457</td>\n",
       "      <td>-0.270096</td>\n",
       "      <td>-0.905177</td>\n",
       "      <td>-0.207729</td>\n",
       "      <td>-0.274607</td>\n",
       "    </tr>\n",
       "    <tr>\n",
       "      <th>1089</th>\n",
       "      <td>-0.290110</td>\n",
       "      <td>-0.296390</td>\n",
       "      <td>-0.211602</td>\n",
       "      <td>-0.328073</td>\n",
       "      <td>-0.413285</td>\n",
       "      <td>-1.567806</td>\n",
       "      <td>-0.207729</td>\n",
       "      <td>-0.076359</td>\n",
       "    </tr>\n",
       "    <tr>\n",
       "      <th>3549</th>\n",
       "      <td>3.341502</td>\n",
       "      <td>1.791702</td>\n",
       "      <td>-0.211602</td>\n",
       "      <td>-0.328073</td>\n",
       "      <td>-0.413285</td>\n",
       "      <td>1.579682</td>\n",
       "      <td>-0.207729</td>\n",
       "      <td>4.714530</td>\n",
       "    </tr>\n",
       "    <tr>\n",
       "      <th>5770</th>\n",
       "      <td>-0.332426</td>\n",
       "      <td>-0.320721</td>\n",
       "      <td>-0.211602</td>\n",
       "      <td>0.825221</td>\n",
       "      <td>0.586821</td>\n",
       "      <td>0.254424</td>\n",
       "      <td>-0.207729</td>\n",
       "      <td>-0.274607</td>\n",
       "    </tr>\n",
       "  </tbody>\n",
       "</table>\n",
       "</div>"
      ],
      "text/plain": [
       "        amount  oldbalanceOrg  newbalanceOrig  oldbalanceDest  newbalanceDest  \\\n",
       "3854 -0.439825      -0.376815       -0.204258       -0.328073       -0.413285   \n",
       "3880 -0.391447      -0.354656       -0.211602       -0.189457       -0.270096   \n",
       "1089 -0.290110      -0.296390       -0.211602       -0.328073       -0.413285   \n",
       "3549  3.341502       1.791702       -0.211602       -0.328073       -0.413285   \n",
       "5770 -0.332426      -0.320721       -0.211602        0.825221        0.586821   \n",
       "\n",
       "      transactionHour  errorBalanceOriginal  errorBalanceDestination  \n",
       "3854        -0.242548             -0.207729                -0.273865  \n",
       "3880        -0.905177             -0.207729                -0.274607  \n",
       "1089        -1.567806             -0.207729                -0.076359  \n",
       "3549         1.579682             -0.207729                 4.714530  \n",
       "5770         0.254424             -0.207729                -0.274607  "
      ]
     },
     "execution_count": 88,
     "metadata": {},
     "output_type": "execute_result"
    }
   ],
   "source": [
    "# logistic regression\n",
    "from sklearn.preprocessing import StandardScaler\n",
    "sc=StandardScaler()\n",
    "X_std=sc.fit_transform(X_train) # This converts column names into index numbers 0,1....\n"
   ]
  },
  {
   "cell_type": "code",
   "execution_count": 89,
   "id": "headed-lesbian",
   "metadata": {},
   "outputs": [],
   "source": [
    "X_test_std=sc.transform(X_test)"
   ]
  },
  {
   "cell_type": "code",
   "execution_count": 92,
   "id": "abroad-woman",
   "metadata": {},
   "outputs": [
    {
     "name": "stdout",
     "output_type": "stream",
     "text": [
      "(13140, 13)\n",
      "<class 'numpy.ndarray'>\n",
      "(3286, 13)\n",
      "<class 'numpy.ndarray'>\n"
     ]
    }
   ],
   "source": [
    "# Concatenating all columns for train and test data\n",
    "X_tr = np.concatenate((X_std,encode_train_type ), axis=1) # column wise\n",
    "print(X_tr.shape)\n",
    "print(type(X_tr))\n",
    "X_te = np.concatenate((X_test_std,encode_test_type), axis=1) # Column wise\n",
    "print(X_te.shape)\n",
    "print(type(X_te))"
   ]
  },
  {
   "cell_type": "code",
   "execution_count": 93,
   "id": "assigned-athletics",
   "metadata": {},
   "outputs": [],
   "source": [
    "from sklearn.linear_model import LogisticRegression\n",
    "clf = LogisticRegression(random_state=0).fit(X_tr, y_train)"
   ]
  },
  {
   "cell_type": "code",
   "execution_count": 94,
   "id": "least-litigation",
   "metadata": {},
   "outputs": [
    {
     "name": "stdout",
     "output_type": "stream",
     "text": [
      "Feature: 0, Score: 11.72534\n",
      "Feature: 1, Score: 5.22255\n",
      "Feature: 2, Score: -3.59702\n",
      "Feature: 3, Score: -1.12726\n",
      "Feature: 4, Score: 1.04010\n",
      "Feature: 5, Score: -0.66552\n",
      "Feature: 6, Score: -7.77881\n",
      "Feature: 7, Score: 11.44270\n",
      "Feature: 8, Score: -3.32705\n",
      "Feature: 9, Score: 2.98794\n",
      "Feature: 10, Score: -0.71666\n",
      "Feature: 11, Score: -3.35154\n",
      "Feature: 12, Score: 4.40377\n"
     ]
    }
   ],
   "source": [
    "# getting feature importance \n",
    "importance=clf.coef_[0]\n",
    "for i,v in enumerate(importance):\n",
    "    print('Feature: %0d, Score: %.5f'%(i,v))"
   ]
  },
  {
   "cell_type": "markdown",
   "id": "defensive-wings",
   "metadata": {},
   "source": [
    "# Amount, oldbalanceOrg, errorBalanceOriginal and errorBalanceDestination are important features"
   ]
  },
  {
   "cell_type": "code",
   "execution_count": 98,
   "id": "wired-surgeon",
   "metadata": {},
   "outputs": [],
   "source": [
    "y_pred2=clf.predict(X_te)"
   ]
  },
  {
   "cell_type": "code",
   "execution_count": 99,
   "id": "figured-dominican",
   "metadata": {},
   "outputs": [
    {
     "data": {
      "text/plain": [
       "0.9440048691418138"
      ]
     },
     "execution_count": 99,
     "metadata": {},
     "output_type": "execute_result"
    }
   ],
   "source": [
    "from sklearn.metrics import accuracy_score\n",
    "accuracy_score(y_test,y_pred2)"
   ]
  },
  {
   "cell_type": "code",
   "execution_count": 100,
   "id": "abandoned-attempt",
   "metadata": {},
   "outputs": [],
   "source": [
    "# Trying the Hyperparameter Tuning for Logistic Regression\n",
    "lr=LogisticRegression(n_jobs=-1)\n",
    "random_grid_1={'penalty':['l1', 'l2', 'elasticnet'],\n",
    "            'C':[0.0001,0.001,0.01,0.1,1,10,25,50,100,150,300,500],\n",
    "            'tol':[0.00001,0.0001,0.001,0.01,0.5,0.1,1,10],\n",
    "             'solver':['newton-cg','sag','saga'],\n",
    "             }"
   ]
  },
  {
   "cell_type": "code",
   "execution_count": 103,
   "id": "freelance-vegetation",
   "metadata": {},
   "outputs": [
    {
     "name": "stderr",
     "output_type": "stream",
     "text": [
      "C:\\Users\\shwer\\AppData\\Local\\Continuum\\anaconda3\\lib\\site-packages\\sklearn\\model_selection\\_search.py:921: UserWarning: One or more of the test scores are non-finite: [0.94200913        nan 0.9412481         nan 0.95106545]\n",
      "  category=UserWarning\n",
      "C:\\Users\\shwer\\AppData\\Local\\Continuum\\anaconda3\\lib\\site-packages\\sklearn\\model_selection\\_search.py:921: UserWarning: One or more of the train scores are non-finite: [0.94159056        nan 0.94092466        nan 0.9516172 ]\n",
      "  category=UserWarning\n"
     ]
    }
   ],
   "source": [
    "lr_parameters, lr_ht_score,results_lr=hypertuning_lrcv(lr,random_grid_1,5,X_tr,y_train)"
   ]
  },
  {
   "cell_type": "code",
   "execution_count": 104,
   "id": "attended-picture",
   "metadata": {},
   "outputs": [
    {
     "data": {
      "text/html": [
       "<div>\n",
       "<style scoped>\n",
       "    .dataframe tbody tr th:only-of-type {\n",
       "        vertical-align: middle;\n",
       "    }\n",
       "\n",
       "    .dataframe tbody tr th {\n",
       "        vertical-align: top;\n",
       "    }\n",
       "\n",
       "    .dataframe thead th {\n",
       "        text-align: right;\n",
       "    }\n",
       "</style>\n",
       "<table border=\"1\" class=\"dataframe\">\n",
       "  <thead>\n",
       "    <tr style=\"text-align: right;\">\n",
       "      <th></th>\n",
       "      <th>param_solver</th>\n",
       "      <th>param_penalty</th>\n",
       "      <th>param_C</th>\n",
       "      <th>mean_train_score</th>\n",
       "      <th>mean_test_score</th>\n",
       "    </tr>\n",
       "  </thead>\n",
       "  <tbody>\n",
       "    <tr>\n",
       "      <th>0</th>\n",
       "      <td>saga</td>\n",
       "      <td>l1</td>\n",
       "      <td>500</td>\n",
       "      <td>0.941591</td>\n",
       "      <td>0.942009</td>\n",
       "    </tr>\n",
       "    <tr>\n",
       "      <th>1</th>\n",
       "      <td>newton-cg</td>\n",
       "      <td>elasticnet</td>\n",
       "      <td>500</td>\n",
       "      <td>NaN</td>\n",
       "      <td>NaN</td>\n",
       "    </tr>\n",
       "    <tr>\n",
       "      <th>2</th>\n",
       "      <td>saga</td>\n",
       "      <td>l2</td>\n",
       "      <td>150</td>\n",
       "      <td>0.940925</td>\n",
       "      <td>0.941248</td>\n",
       "    </tr>\n",
       "    <tr>\n",
       "      <th>3</th>\n",
       "      <td>sag</td>\n",
       "      <td>l1</td>\n",
       "      <td>0.01</td>\n",
       "      <td>NaN</td>\n",
       "      <td>NaN</td>\n",
       "    </tr>\n",
       "    <tr>\n",
       "      <th>4</th>\n",
       "      <td>saga</td>\n",
       "      <td>l1</td>\n",
       "      <td>150</td>\n",
       "      <td>0.951617</td>\n",
       "      <td>0.951065</td>\n",
       "    </tr>\n",
       "  </tbody>\n",
       "</table>\n",
       "</div>"
      ],
      "text/plain": [
       "  param_solver param_penalty param_C  mean_train_score  mean_test_score\n",
       "0         saga            l1     500          0.941591         0.942009\n",
       "1    newton-cg    elasticnet     500               NaN              NaN\n",
       "2         saga            l2     150          0.940925         0.941248\n",
       "3          sag            l1    0.01               NaN              NaN\n",
       "4         saga            l1     150          0.951617         0.951065"
      ]
     },
     "execution_count": 104,
     "metadata": {},
     "output_type": "execute_result"
    }
   ],
   "source": [
    "results_lr[['param_solver','param_penalty','param_C','mean_train_score','mean_test_score']]"
   ]
  },
  {
   "cell_type": "code",
   "execution_count": 105,
   "id": "absolute-patio",
   "metadata": {},
   "outputs": [
    {
     "data": {
      "text/plain": [
       "{'tol': 0.01, 'solver': 'saga', 'penalty': 'l1', 'C': 150}"
      ]
     },
     "execution_count": 105,
     "metadata": {},
     "output_type": "execute_result"
    }
   ],
   "source": [
    "lr_parameters"
   ]
  },
  {
   "cell_type": "code",
   "execution_count": 106,
   "id": "fifty-indonesian",
   "metadata": {},
   "outputs": [
    {
     "data": {
      "image/png": "[encoded data removed]",
      "text/plain": [
       "<Figure size 432x288 with 2 Axes>"
      ]
     },
     "metadata": {
      "needs_background": "light"
     },
     "output_type": "display_data"
    },
    {
     "data": {
      "text/plain": [
       "array([[1545,   98],\n",
       "       [  86, 1557]], dtype=int64)"
      ]
     },
     "execution_count": 106,
     "metadata": {},
     "output_type": "execute_result"
    }
   ],
   "source": [
    "lr=LogisticRegression(n_jobs=-1,solver='saga',penalty='l1',C=150, tol=0.01).fit(X_tr, y_train)\n",
    "y_pred2=clf.predict(X_te)\n",
    "from sklearn.metrics import confusion_matrix\n",
    "cm=confusion_matrix(y_test,y_pred2)\n",
    "sns.heatmap(cm,annot=True)\n",
    "plt.show(ax)\n",
    "cm"
   ]
  },
  {
   "cell_type": "code",
   "execution_count": 107,
   "id": "angry-dubai",
   "metadata": {},
   "outputs": [
    {
     "data": {
      "text/plain": [
       "0.9440048691418138"
      ]
     },
     "execution_count": 107,
     "metadata": {},
     "output_type": "execute_result"
    }
   ],
   "source": [
    "from sklearn.metrics import accuracy_score\n",
    "accuracy_score(y_test,y_pred2)"
   ]
  },
  {
   "cell_type": "markdown",
   "id": "streaming-surface",
   "metadata": {},
   "source": [
    "# KNN Classifier"
   ]
  },
  {
   "cell_type": "code",
   "execution_count": 110,
   "id": "super-murray",
   "metadata": {},
   "outputs": [
    {
     "data": {
      "text/plain": [
       "KNeighborsClassifier()"
      ]
     },
     "execution_count": 110,
     "metadata": {},
     "output_type": "execute_result"
    }
   ],
   "source": [
    "from sklearn.neighbors import KNeighborsClassifier\n",
    "classifier = KNeighborsClassifier(n_neighbors=5)\n",
    "classifier.fit(X_tr, y_train)"
   ]
  },
  {
   "cell_type": "code",
   "execution_count": 111,
   "id": "effective-headline",
   "metadata": {},
   "outputs": [],
   "source": [
    "y_pred2=classifier.predict(X_te)"
   ]
  },
  {
   "cell_type": "code",
   "execution_count": 112,
   "id": "durable-beginning",
   "metadata": {},
   "outputs": [
    {
     "data": {
      "text/plain": [
       "0.956177723676202"
      ]
     },
     "execution_count": 112,
     "metadata": {},
     "output_type": "execute_result"
    }
   ],
   "source": [
    "from sklearn.metrics import accuracy_score\n",
    "accuracy_score(y_test,y_pred2)"
   ]
  },
  {
   "cell_type": "code",
   "execution_count": 118,
   "id": "strong-anthony",
   "metadata": {},
   "outputs": [],
   "source": [
    "# Choosing the optimal nearest neigbors\n",
    "error = []\n",
    "\n",
    "# Calculating error for K values between 1 and 40\n",
    "for i in range(1, 10):\n",
    "    knn = KNeighborsClassifier(n_neighbors=i)\n",
    "    knn.fit(X_tr, y_train)\n",
    "    pred_i = knn.predict(X_te)\n",
    "    error.append(np.mean(pred_i != y_test))\n"
   ]
  },
  {
   "cell_type": "code",
   "execution_count": 119,
   "id": "asian-serum",
   "metadata": {},
   "outputs": [
    {
     "data": {
      "text/plain": [
       "Text(0, 0.5, 'Mean Error')"
      ]
     },
     "execution_count": 119,
     "metadata": {},
     "output_type": "execute_result"
    },
    {
     "data": {
      "image/png": "[encoded data removed]",
      "text/plain": [
       "<Figure size 864x432 with 1 Axes>"
      ]
     },
     "metadata": {
      "needs_background": "light"
     },
     "output_type": "display_data"
    }
   ],
   "source": [
    "plt.figure(figsize=(12, 6))\n",
    "plt.plot(range(1, 10), error, color='red', linestyle='dashed', marker='o',\n",
    "         markerfacecolor='blue', markersize=10)\n",
    "plt.title('Error Rate K Value')\n",
    "plt.xlabel('K Value')\n",
    "plt.ylabel('Mean Error')"
   ]
  },
  {
   "cell_type": "code",
   "execution_count": 120,
   "id": "loving-thing",
   "metadata": {},
   "outputs": [
    {
     "data": {
      "text/plain": [
       "KNeighborsClassifier(n_neighbors=3)"
      ]
     },
     "execution_count": 120,
     "metadata": {},
     "output_type": "execute_result"
    }
   ],
   "source": [
    "from sklearn.neighbors import KNeighborsClassifier\n",
    "classifier = KNeighborsClassifier(n_neighbors=3)\n",
    "classifier.fit(X_tr, y_train)"
   ]
  },
  {
   "cell_type": "code",
   "execution_count": 121,
   "id": "boolean-kuwait",
   "metadata": {},
   "outputs": [],
   "source": [
    "y_pred2=classifier.predict(X_te)"
   ]
  },
  {
   "cell_type": "code",
   "execution_count": 122,
   "id": "lined-wrapping",
   "metadata": {},
   "outputs": [
    {
     "data": {
      "text/plain": [
       "0.9592209373097992"
      ]
     },
     "execution_count": 122,
     "metadata": {},
     "output_type": "execute_result"
    }
   ],
   "source": [
    "from sklearn.metrics import accuracy_score\n",
    "accuracy_score(y_test,y_pred2)"
   ]
  },
  {
   "cell_type": "markdown",
   "id": "variable-value",
   "metadata": {},
   "source": [
    "# Accuracy with KNN Classifier is 96%"
   ]
  },
  {
   "cell_type": "code",
   "execution_count": 123,
   "id": "intelligent-freedom",
   "metadata": {},
   "outputs": [
    {
     "name": "stdout",
     "output_type": "stream",
     "text": [
      "+------------------------------------------------+----------+---------------+\n",
      "|                     Model                      | Test-AUC | Test Accuracy |\n",
      "+------------------------------------------------+----------+---------------+\n",
      "|                 Random Forest                  | 0.99963  |    0.999994   |\n",
      "|    Decision Tree with Hyperparameter Tuning    |  0.9979  |    0.999992   |\n",
      "|       Xgboost with Hyperparameter Tuning       |  0.9996  |     0.9982    |\n",
      "| Logistic Regression with Hyperparameter Tuning |   0.93   |     0.944     |\n",
      "|                 KNN Classifier                 |   0.95   |      0.96     |\n",
      "+------------------------------------------------+----------+---------------+\n"
     ]
    }
   ],
   "source": [
    "from prettytable import PrettyTable\n",
    "x = PrettyTable()\n",
    "x.field_names = [\"Model\", \"Test-AUC\",\"Test Accuracy\"]\n",
    "\n",
    "x.add_row([ \"Random Forest\", 0.99963,0.999994])\n",
    "x.add_row([ \"Decision Tree with Hyperparameter Tuning\", 0.9979,0.999992])\n",
    "x.add_row([\"Xgboost with Hyperparameter Tuning\", 0.9996,0.9982])\n",
    "x.add_row([\"Logistic Regression with Hyperparameter Tuning\", 0.93,0.9440])\n",
    "x.add_row([\"KNN Classifier\", 0.95,0.96])\n",
    "print(x)"
   ]
  },
  {
   "cell_type": "markdown",
   "id": "electronic-moscow",
   "metadata": {},
   "source": [
    "## Observations:\n",
    "### Random Forest is the best model among all the models build \n"
   ]
  },
  {
   "cell_type": "code",
   "execution_count": null,
   "id": "iraqi-characterization",
   "metadata": {},
   "outputs": [],
   "source": []
  }
 ],
 "metadata": {
  "kernelspec": {
   "display_name": "Python 3",
   "language": "python",
   "name": "python3"
  },
  "language_info": {
   "codemirror_mode": {
    "name": "ipython",
    "version": 3
   },
   "file_extension": ".py",
   "mimetype": "text/x-python",
   "name": "python",
   "nbconvert_exporter": "python",
   "pygments_lexer": "ipython3",
   "version": "3.7.7"
  }
 },
 "nbformat": 4,
 "nbformat_minor": 5
}
